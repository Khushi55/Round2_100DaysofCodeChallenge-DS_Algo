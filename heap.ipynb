{
 "cells": [
  {
   "cell_type": "markdown",
   "metadata": {},
   "source": [
    "## Heap"
   ]
  },
  {
   "cell_type": "markdown",
   "metadata": {},
   "source": [
    "## priority queue using heap (min heap)"
   ]
  },
  {
   "cell_type": "code",
   "execution_count": 41,
   "metadata": {},
   "outputs": [],
   "source": [
    "class Heaps:\n",
    "    def __init__(self):\n",
    "            self.heap=[]\n",
    "            \n",
    "            \n",
    "    def is_empty(self):\n",
    "        return len(self.heap)==0\n",
    "    \n",
    "    def parent(self,j):              # return  index of parent of jth index\n",
    "        return (j-1)//2\n",
    "    \n",
    "    def left_child(self,j):           # return index of left child of j\n",
    "        return 2*j+1\n",
    "    \n",
    "    def right_child(self,j):\n",
    "        return 2*j+2\n",
    "\n",
    "    def has_left(self,j):\n",
    "        return self.left_child(j)< len(self.heap)\n",
    "    \n",
    "    def has_right(self,j):\n",
    "        return self.right_child(j)<len(self.heap)\n",
    "    \n",
    "    def swap(self,i,j):\n",
    "        self.heap[i], self.heap[j]= self.heap[j], self.heap[i]\n",
    "        \n",
    "    def upheap(self,j):\n",
    "        parents=self.parent(j)\n",
    "        if j>0 and self.heap[j]<self.heap[parents]:\n",
    "            self.swap(j,parents)\n",
    "            self.upheap(parents)\n",
    "            \n",
    "            \n",
    "    def downheap(self,j):\n",
    "        if self.has_left(j):\n",
    "            left=self.left_child(j)\n",
    "            small_child=left\n",
    "            if self.has_right(j):\n",
    "                right=self.right_child(j)\n",
    "                if self.heap[left]>self.heap[right]:\n",
    "                    small_child=right\n",
    "            if self.heap[j]>self.heap[small_child]:\n",
    "                self.swap(j,small_child)\n",
    "                self.downheap(small_child)\n",
    "            \n",
    "    def add(self, key,value):\n",
    "        self.heap.append((key,value))\n",
    "        self.upheap(len(self.heap)-1)\n",
    "        \n",
    "    def minimum(self):\n",
    "        if self.is_empty():\n",
    "            print(\"heapqueue is empty\")\n",
    "            return\n",
    "        return self.heap[0]\n",
    "    \n",
    "    def remove(self):\n",
    "        if self.is_empty():\n",
    "            print(\"heapqueue is empty\")\n",
    "            return\n",
    "        self.swap(0, len(self.heap)-1)\n",
    "        item=self.heap.pop()\n",
    "        self.downheap(0)\n",
    "        return item\n",
    "    \n",
    "        \n",
    "        \n",
    "            \n",
    "            \n",
    "    \n",
    "    "
   ]
  },
  {
   "cell_type": "code",
   "execution_count": 42,
   "metadata": {},
   "outputs": [],
   "source": [
    "H=Heaps()"
   ]
  },
  {
   "cell_type": "code",
   "execution_count": 43,
   "metadata": {},
   "outputs": [],
   "source": [
    "H.add(7,'A')"
   ]
  },
  {
   "cell_type": "code",
   "execution_count": 44,
   "metadata": {},
   "outputs": [],
   "source": [
    "H.add(5,'B')"
   ]
  },
  {
   "cell_type": "code",
   "execution_count": 45,
   "metadata": {},
   "outputs": [
    {
     "data": {
      "text/plain": [
       "(5, 'B')"
      ]
     },
     "execution_count": 45,
     "metadata": {},
     "output_type": "execute_result"
    }
   ],
   "source": [
    "H.minimum()"
   ]
  },
  {
   "cell_type": "code",
   "execution_count": 46,
   "metadata": {},
   "outputs": [
    {
     "data": {
      "text/plain": [
       "(5, 'B')"
      ]
     },
     "execution_count": 46,
     "metadata": {},
     "output_type": "execute_result"
    }
   ],
   "source": [
    "H.remove()"
   ]
  },
  {
   "cell_type": "code",
   "execution_count": 47,
   "metadata": {},
   "outputs": [],
   "source": [
    "H.add(3,'C')\n"
   ]
  },
  {
   "cell_type": "code",
   "execution_count": 48,
   "metadata": {},
   "outputs": [],
   "source": [
    "H.add(9,1)"
   ]
  },
  {
   "cell_type": "code",
   "execution_count": 49,
   "metadata": {},
   "outputs": [
    {
     "data": {
      "text/plain": [
       "(3, 'C')"
      ]
     },
     "execution_count": 49,
     "metadata": {},
     "output_type": "execute_result"
    }
   ],
   "source": [
    "H.remove()"
   ]
  },
  {
   "cell_type": "code",
   "execution_count": 50,
   "metadata": {},
   "outputs": [
    {
     "data": {
      "text/plain": [
       "(7, 'A')"
      ]
     },
     "execution_count": 50,
     "metadata": {},
     "output_type": "execute_result"
    }
   ],
   "source": [
    "H.remove()"
   ]
  },
  {
   "cell_type": "code",
   "execution_count": 51,
   "metadata": {},
   "outputs": [
    {
     "data": {
      "text/plain": [
       "(9, 1)"
      ]
     },
     "execution_count": 51,
     "metadata": {},
     "output_type": "execute_result"
    }
   ],
   "source": [
    "H.remove()"
   ]
  },
  {
   "cell_type": "code",
   "execution_count": 52,
   "metadata": {},
   "outputs": [
    {
     "name": "stdout",
     "output_type": "stream",
     "text": [
      "heapqueue is empty\n"
     ]
    }
   ],
   "source": [
    "H.remove()"
   ]
  },
  {
   "cell_type": "code",
   "execution_count": null,
   "metadata": {},
   "outputs": [],
   "source": []
  }
 ],
 "metadata": {
  "kernelspec": {
   "display_name": "Python 3",
   "language": "python",
   "name": "python3"
  },
  "language_info": {
   "codemirror_mode": {
    "name": "ipython",
    "version": 3
   },
   "file_extension": ".py",
   "mimetype": "text/x-python",
   "name": "python",
   "nbconvert_exporter": "python",
   "pygments_lexer": "ipython3",
   "version": "3.6.7"
  }
 },
 "nbformat": 4,
 "nbformat_minor": 2
}
