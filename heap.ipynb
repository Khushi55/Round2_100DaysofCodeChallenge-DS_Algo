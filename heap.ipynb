{
 "cells": [
  {
   "cell_type": "markdown",
   "metadata": {},
   "source": [
    "## Heap"
   ]
  },
  {
   "cell_type": "markdown",
   "metadata": {},
   "source": [
    "## priority queue using heap (min heap)"
   ]
  },
  {
   "cell_type": "code",
   "execution_count": 5,
   "metadata": {},
   "outputs": [],
   "source": [
    "class Heaps:\n",
    "    def __init__(self):\n",
    "            self.heap=[]\n",
    "            \n",
    "            \n",
    "    def is_empty(self):\n",
    "        return len(self.heap)==0\n",
    "    \n",
    "    def parent(self,j):              # return  index of parent of jth index\n",
    "        return (j-1)//2\n",
    "    \n",
    "    def left_child(self,j):           # return index of left child of j\n",
    "        return 2*j+1\n",
    "    \n",
    "    def right_child(self,j):\n",
    "        return 2*j+2\n",
    "\n",
    "    def has_left(self,j):\n",
    "        return self.left_child(j)< len(self.heap)\n",
    "    \n",
    "    def has_right(self,j):\n",
    "        return self.right_child(j)<len(self.heap)\n",
    "    \n",
    "    def swap(self,i,j):\n",
    "        self.heap[i], self.heap[j]= self.heap[j], self.heap[i]\n",
    "        \n",
    "    def upheap(self,j):\n",
    "        parents=self.parent(j)\n",
    "        if j>0 and self.heap[j]<self.heap[parents]:\n",
    "            self.swap(j,parents)\n",
    "            self.upheap(parents)\n",
    "            \n",
    "            \n",
    "    def downheap(self,j):\n",
    "        if self.has_left(j):\n",
    "            left=self.left_child(j)\n",
    "            small_child=left\n",
    "            if self.has_right(j):\n",
    "                right=self.right_child(j)\n",
    "                if self.heap[left]>self.heap[right]:\n",
    "                    small_child=right\n",
    "            if self.heap[j]>self.heap[small_child]:\n",
    "                self.swap(j,small_child)\n",
    "                self.downheap(small_child)\n",
    "            \n",
    "    def add(self, key,value):\n",
    "        self.heap.append((key,value))\n",
    "        self.upheap(len(self.heap)-1)\n",
    "        \n",
    "    def minimum(self):\n",
    "        if self.is_empty():\n",
    "            print(\"heapqueue is empty\")\n",
    "            return\n",
    "        return self.heap[0]\n",
    "    \n",
    "    def remove(self):\n",
    "        if self.is_empty():\n",
    "            print(\"heapqueue is empty\")\n",
    "            return\n",
    "        self.swap(0, len(self.heap)-1)\n",
    "        item=self.heap.pop()\n",
    "        self.downheap(0)\n",
    "        return item\n",
    "    \n",
    "        \n",
    "        \n",
    "            \n",
    "            \n",
    "    \n",
    "    "
   ]
  },
  {
   "cell_type": "code",
   "execution_count": 42,
   "metadata": {},
   "outputs": [],
   "source": [
    "H=Heaps()"
   ]
  },
  {
   "cell_type": "code",
   "execution_count": 43,
   "metadata": {},
   "outputs": [],
   "source": [
    "H.add(7,'A')"
   ]
  },
  {
   "cell_type": "code",
   "execution_count": 44,
   "metadata": {},
   "outputs": [],
   "source": [
    "H.add(5,'B')"
   ]
  },
  {
   "cell_type": "code",
   "execution_count": 45,
   "metadata": {},
   "outputs": [
    {
     "data": {
      "text/plain": [
       "(5, 'B')"
      ]
     },
     "execution_count": 45,
     "metadata": {},
     "output_type": "execute_result"
    }
   ],
   "source": [
    "H.minimum()"
   ]
  },
  {
   "cell_type": "code",
   "execution_count": 46,
   "metadata": {},
   "outputs": [
    {
     "data": {
      "text/plain": [
       "(5, 'B')"
      ]
     },
     "execution_count": 46,
     "metadata": {},
     "output_type": "execute_result"
    }
   ],
   "source": [
    "H.remove()"
   ]
  },
  {
   "cell_type": "code",
   "execution_count": 47,
   "metadata": {},
   "outputs": [],
   "source": [
    "H.add(3,'C')\n"
   ]
  },
  {
   "cell_type": "code",
   "execution_count": 48,
   "metadata": {},
   "outputs": [],
   "source": [
    "H.add(9,1)"
   ]
  },
  {
   "cell_type": "code",
   "execution_count": 49,
   "metadata": {},
   "outputs": [
    {
     "data": {
      "text/plain": [
       "(3, 'C')"
      ]
     },
     "execution_count": 49,
     "metadata": {},
     "output_type": "execute_result"
    }
   ],
   "source": [
    "H.remove()"
   ]
  },
  {
   "cell_type": "code",
   "execution_count": 50,
   "metadata": {},
   "outputs": [
    {
     "data": {
      "text/plain": [
       "(7, 'A')"
      ]
     },
     "execution_count": 50,
     "metadata": {},
     "output_type": "execute_result"
    }
   ],
   "source": [
    "H.remove()"
   ]
  },
  {
   "cell_type": "code",
   "execution_count": 51,
   "metadata": {},
   "outputs": [
    {
     "data": {
      "text/plain": [
       "(9, 1)"
      ]
     },
     "execution_count": 51,
     "metadata": {},
     "output_type": "execute_result"
    }
   ],
   "source": [
    "H.remove()"
   ]
  },
  {
   "cell_type": "code",
   "execution_count": 52,
   "metadata": {},
   "outputs": [
    {
     "name": "stdout",
     "output_type": "stream",
     "text": [
      "heapqueue is empty\n"
     ]
    }
   ],
   "source": [
    "H.remove()"
   ]
  },
  {
   "cell_type": "markdown",
   "metadata": {},
   "source": [
    "## Bottom-Up Heap Construction"
   ]
  },
  {
   "cell_type": "code",
   "execution_count": 17,
   "metadata": {},
   "outputs": [],
   "source": [
    "class Bottom_up_Heap(Heaps):\n",
    "    def __init__(self, contents=[]):\n",
    "        self.data=[i for i in contents]\n",
    "        self.heap=self.data\n",
    "        if len(self.data)>1:\n",
    "            self.heapify()\n",
    "    def heapify(self):\n",
    "        start=self.parent(len(self.data)-1)\n",
    "        for j in range(start,-1,-1):\n",
    "            self.downheap(j)\n",
    "            "
   ]
  },
  {
   "cell_type": "code",
   "execution_count": 18,
   "metadata": {},
   "outputs": [],
   "source": [
    "B=Bottom_up_Heap([(10,'A'),(20,'B'),(5,'C'),(25,'D'),(12,'E'),(4,'F'),(20,'G')])"
   ]
  },
  {
   "cell_type": "code",
   "execution_count": 19,
   "metadata": {},
   "outputs": [
    {
     "data": {
      "text/plain": [
       "[(4, 'F'), (12, 'E'), (5, 'C'), (25, 'D'), (20, 'B'), (10, 'A'), (20, 'G')]"
      ]
     },
     "execution_count": 19,
     "metadata": {},
     "output_type": "execute_result"
    }
   ],
   "source": [
    "B.heap"
   ]
  },
  {
   "cell_type": "markdown",
   "metadata": {},
   "source": [
    "## heapq Module"
   ]
  },
  {
   "cell_type": "code",
   "execution_count": 21,
   "metadata": {},
   "outputs": [],
   "source": [
    "import heapq"
   ]
  },
  {
   "cell_type": "code",
   "execution_count": 37,
   "metadata": {},
   "outputs": [],
   "source": [
    "list=[(10,'A'),(20,'B'),(5,'C'),(25,'D'),(12,'E'),(4,'F'),(20,'G')]"
   ]
  },
  {
   "cell_type": "code",
   "execution_count": 38,
   "metadata": {},
   "outputs": [],
   "source": [
    "heapq.heapify(list)"
   ]
  },
  {
   "cell_type": "code",
   "execution_count": 39,
   "metadata": {},
   "outputs": [
    {
     "data": {
      "text/plain": [
       "[(4, 'F'), (12, 'E'), (5, 'C'), (25, 'D'), (20, 'B'), (10, 'A'), (20, 'G')]"
      ]
     },
     "execution_count": 39,
     "metadata": {},
     "output_type": "execute_result"
    }
   ],
   "source": [
    "list\n",
    "\n"
   ]
  },
  {
   "cell_type": "code",
   "execution_count": 40,
   "metadata": {},
   "outputs": [],
   "source": [
    "heapq.heappush(list,(6,'K'))"
   ]
  },
  {
   "cell_type": "code",
   "execution_count": 41,
   "metadata": {},
   "outputs": [
    {
     "data": {
      "text/plain": [
       "[(4, 'F'),\n",
       " (6, 'K'),\n",
       " (5, 'C'),\n",
       " (12, 'E'),\n",
       " (20, 'B'),\n",
       " (10, 'A'),\n",
       " (20, 'G'),\n",
       " (25, 'D')]"
      ]
     },
     "execution_count": 41,
     "metadata": {},
     "output_type": "execute_result"
    }
   ],
   "source": [
    "list"
   ]
  },
  {
   "cell_type": "code",
   "execution_count": 42,
   "metadata": {},
   "outputs": [
    {
     "data": {
      "text/plain": [
       "(4, 'F')"
      ]
     },
     "execution_count": 42,
     "metadata": {},
     "output_type": "execute_result"
    }
   ],
   "source": [
    "heapq.heappop(list)"
   ]
  },
  {
   "cell_type": "code",
   "execution_count": 43,
   "metadata": {},
   "outputs": [
    {
     "data": {
      "text/plain": [
       "[(5, 'C'), (6, 'K'), (10, 'A'), (12, 'E'), (20, 'B'), (25, 'D'), (20, 'G')]"
      ]
     },
     "execution_count": 43,
     "metadata": {},
     "output_type": "execute_result"
    }
   ],
   "source": [
    "list"
   ]
  },
  {
   "cell_type": "code",
   "execution_count": 44,
   "metadata": {},
   "outputs": [
    {
     "data": {
      "text/plain": [
       "(5, 'C')"
      ]
     },
     "execution_count": 44,
     "metadata": {},
     "output_type": "execute_result"
    }
   ],
   "source": [
    "heapq.heapreplace(list,(7,'L'))"
   ]
  },
  {
   "cell_type": "code",
   "execution_count": 45,
   "metadata": {},
   "outputs": [
    {
     "data": {
      "text/plain": [
       "[(6, 'K'), (7, 'L'), (10, 'A'), (12, 'E'), (20, 'B'), (25, 'D'), (20, 'G')]"
      ]
     },
     "execution_count": 45,
     "metadata": {},
     "output_type": "execute_result"
    }
   ],
   "source": [
    "list"
   ]
  },
  {
   "cell_type": "code",
   "execution_count": 62,
   "metadata": {},
   "outputs": [],
   "source": [
    "k=(heapq.nlargest(4,list))"
   ]
  },
  {
   "cell_type": "code",
   "execution_count": 63,
   "metadata": {},
   "outputs": [
    {
     "data": {
      "text/plain": [
       "[(25, 'D'), (20, 'G'), (20, 'B'), (12, 'E')]"
      ]
     },
     "execution_count": 63,
     "metadata": {},
     "output_type": "execute_result"
    }
   ],
   "source": [
    "k"
   ]
  },
  {
   "cell_type": "code",
   "execution_count": 64,
   "metadata": {},
   "outputs": [],
   "source": [
    "heapq.heapify(k)"
   ]
  },
  {
   "cell_type": "code",
   "execution_count": 65,
   "metadata": {},
   "outputs": [
    {
     "data": {
      "text/plain": [
       "[(12, 'E'), (20, 'G'), (20, 'B'), (25, 'D')]"
      ]
     },
     "execution_count": 65,
     "metadata": {},
     "output_type": "execute_result"
    }
   ],
   "source": [
    "k"
   ]
  },
  {
   "cell_type": "code",
   "execution_count": 1,
   "metadata": {},
   "outputs": [
    {
     "name": "stdout",
     "output_type": "stream",
     "text": [
      "7\n",
      "6\n",
      "5\n",
      "4\n",
      "3\n",
      "2\n",
      "1\n",
      "0\n"
     ]
    }
   ],
   "source": [
    "for i in range(7,-1,-1):\n",
    "    print(i)"
   ]
  },
  {
   "cell_type": "code",
   "execution_count": 33,
   "metadata": {},
   "outputs": [],
   "source": [
    "class Heapsort:\n",
    "    def __init__(self, alist=[]):\n",
    "        self.alist=[i for i in alist]\n",
    "        self.buildmax_heap()   # build max heap i.e place largest value at root\n",
    "        for i in range(len(self.alist)-1,0,-1):\n",
    "            self.alist[0], self.alist[i] = self.alist[i], self.alist[0] \n",
    "            \n",
    "            self.maxheap(index=0,size=i) # building max heap from i sized list \n",
    "                \n",
    "    def parent(self,i):\n",
    "        return (i-1)//2\n",
    "    \n",
    "    def left_child(self,i):\n",
    "        return 2*i +1\n",
    "    \n",
    "    def right_child(self,i):\n",
    "        return 2*i+2\n",
    "    \n",
    "    \n",
    "    def buildmax_heap(self):\n",
    "        length=len(self.alist)\n",
    "        start=self.parent(length-1)\n",
    "        while(start>=0):\n",
    "            self.maxheap(index=start,size=length)\n",
    "            start-=1\n",
    "            \n",
    "    def maxheap(self,index,size):\n",
    "        left=self.left_child(index)\n",
    "        if left<size and self.alist[left]>self.alist[index]:\n",
    "            largest=left\n",
    "        else:\n",
    "            largest=index\n",
    "        right = self.right_child(index)\n",
    "        if right<size and self.alist[right]>self.alist[largest]:\n",
    "            largest=right\n",
    "       \n",
    "        if largest!=index:\n",
    "            self.alist[largest],self.alist[index]=self.alist[index],self.alist[largest]\n",
    "            self.maxheap(largest,size)\n",
    "            \n",
    "            \n",
    "    \n",
    "                \n",
    "            \n",
    "            \n",
    "            "
   ]
  },
  {
   "cell_type": "code",
   "execution_count": 34,
   "metadata": {},
   "outputs": [],
   "source": [
    "list=[20,10,5,3,7,8,9]\n",
    "H=Heapsort(list)\n"
   ]
  },
  {
   "cell_type": "code",
   "execution_count": 35,
   "metadata": {},
   "outputs": [
    {
     "data": {
      "text/plain": [
       "[3, 5, 7, 8, 9, 10, 20]"
      ]
     },
     "execution_count": 35,
     "metadata": {},
     "output_type": "execute_result"
    }
   ],
   "source": [
    "H.alist"
   ]
  },
  {
   "cell_type": "code",
   "execution_count": 36,
   "metadata": {},
   "outputs": [],
   "source": [
    "H=Heapsort([(5, 'C'), (6, 'K'), (10, 'A'), (12, 'E'), (20, 'B'), (25, 'D'), (20, 'G')])"
   ]
  },
  {
   "cell_type": "code",
   "execution_count": 37,
   "metadata": {},
   "outputs": [
    {
     "data": {
      "text/plain": [
       "[(5, 'C'), (6, 'K'), (10, 'A'), (12, 'E'), (20, 'B'), (20, 'G'), (25, 'D')]"
      ]
     },
     "execution_count": 37,
     "metadata": {},
     "output_type": "execute_result"
    }
   ],
   "source": [
    "H.alist"
   ]
  },
  {
   "cell_type": "markdown",
   "metadata": {},
   "source": [
    "## Adaptable Heap Priority queue"
   ]
  },
  {
   "cell_type": "code",
   "execution_count": 6,
   "metadata": {},
   "outputs": [],
   "source": [
    "class AdaptableHeapPriorityQueue(Heaps):      # heap priorityqueue is base class\n",
    "    \n",
    "    \n",
    "    class Locator:\n",
    "        __slots__='key','value','index'\n",
    "        \n",
    "        \n",
    "        def __init__(self,k,val,j):\n",
    "            super().__init__()\n",
    "            self.key=k\n",
    "            self.value=val\n",
    "            self.index=j\n",
    "            \n",
    "            \n",
    "    def swap(self,i,j):\n",
    "        super().swap(i,j)\n",
    "        self.heap[i].index=i\n",
    "        self.heap[i].index=j\n",
    "    \n",
    "    def bubble(self,j):\n",
    "        if j>0 and self.heap[j]<self.heap[self.parent(j)]:\n",
    "            self.upheap(j)\n",
    "        else:\n",
    "            self.downheap(j)\n",
    "    \n",
    "    def add(self,key,val):\n",
    "        token=self.Locator(key,val,len(self.heap))\n",
    "        self.heap.append(token)\n",
    "        self.upheap(len(self.heap)-1)   # for maintaing heap order property\n",
    "\n",
    "    \n",
    "    def remove(self,loc):\n",
    "        j=loc.index\n",
    "        if not (0 <= j < len(self.heap)):\n",
    "            raise ValueError(\"invalid\")\n",
    "        \n",
    "        if j==len(self.heap)-1:\n",
    "            self.heap.pop(j)\n",
    "            \n",
    "        else:\n",
    "            self.swap(j,len(self.heap)-1)\n",
    "            self.heap.pop()\n",
    "            self.bubble(j)\n",
    "            return (loc. key, loc. value)\n",
    "        \n",
    "    def update(self,loc,newkey, newval):\n",
    "        j=loc.index\n",
    "        if not (0 <= j < len(self.data)):\n",
    "            raise ValueError(\"invalid\")\n",
    "        self.heap[j].key=newkey\n",
    "        self.heap[j].val=newval\n",
    "        self.bubble(j)\n",
    "        \n",
    "        \n",
    "        \n",
    "        \n",
    "    \n",
    "            \n",
    "        \n",
    "    \n",
    "   "
   ]
  },
  {
   "cell_type": "code",
   "execution_count": 7,
   "metadata": {},
   "outputs": [],
   "source": [
    "H=AdaptableHeapPriorityQueue()"
   ]
  },
  {
   "cell_type": "code",
   "execution_count": 8,
   "metadata": {},
   "outputs": [],
   "source": [
    "H.add(20,'A')"
   ]
  },
  {
   "cell_type": "code",
   "execution_count": null,
   "metadata": {},
   "outputs": [],
   "source": []
  },
  {
   "cell_type": "code",
   "execution_count": null,
   "metadata": {},
   "outputs": [],
   "source": []
  }
 ],
 "metadata": {
  "kernelspec": {
   "display_name": "Python 3",
   "language": "python",
   "name": "python3"
  },
  "language_info": {
   "codemirror_mode": {
    "name": "ipython",
    "version": 3
   },
   "file_extension": ".py",
   "mimetype": "text/x-python",
   "name": "python",
   "nbconvert_exporter": "python",
   "pygments_lexer": "ipython3",
   "version": "3.6.7"
  }
 },
 "nbformat": 4,
 "nbformat_minor": 2
}
