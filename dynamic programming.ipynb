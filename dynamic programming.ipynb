{
 "cells": [
  {
   "cell_type": "markdown",
   "metadata": {},
   "source": [
    "# Dynamic Programming\n"
   ]
  },
  {
   "cell_type": "markdown",
   "metadata": {},
   "source": [
    "### Fibnocii series"
   ]
  },
  {
   "cell_type": "code",
   "execution_count": 4,
   "metadata": {},
   "outputs": [],
   "source": [
    "def fib(n):\n",
    "    f=[0]*(n+1)\n",
    "    if n==0:                         # space compexity O(n)\n",
    "                                     # Time Complexity O(n) \n",
    "        return 0\n",
    "    if n==1:\n",
    "        return 1\n",
    "    \n",
    "    f[0]=0\n",
    "        \n",
    "    f[1]=1\n",
    "    for i in range(2,n+1):\n",
    "        if f[n-1]==0:\n",
    "            f[n-1]=fib(n-1)\n",
    "        if f[n-2]==0:\n",
    "            f[n-2]=fib(n-2)\n",
    "        f[n]=f[n-1]+f[n-2]\n",
    "    return f[n]    \n",
    "    \n",
    "        "
   ]
  },
  {
   "cell_type": "code",
   "execution_count": 5,
   "metadata": {},
   "outputs": [
    {
     "data": {
      "text/plain": [
       "34"
      ]
     },
     "execution_count": 5,
     "metadata": {},
     "output_type": "execute_result"
    }
   ],
   "source": [
    "fib(9)"
   ]
  },
  {
   "cell_type": "markdown",
   "metadata": {},
   "source": [
    "###### space optimized solution"
   ]
  },
  {
   "cell_type": "code",
   "execution_count": 8,
   "metadata": {},
   "outputs": [],
   "source": [
    "def fib(n):\n",
    "    if n==0 or n==1:\n",
    "        return n\n",
    "    a=0\n",
    "    b=1\n",
    "    for i in range(2,n+1):\n",
    "        c=a+b\n",
    "        a,b=b,c\n",
    "    return c    \n",
    "    \n",
    "    "
   ]
  },
  {
   "cell_type": "code",
   "execution_count": 9,
   "metadata": {},
   "outputs": [
    {
     "data": {
      "text/plain": [
       "34"
      ]
     },
     "execution_count": 9,
     "metadata": {},
     "output_type": "execute_result"
    }
   ],
   "source": [
    "fib(9)         # Time=O(n)\n",
    "                # space=O(1)"
   ]
  },
  {
   "cell_type": "markdown",
   "metadata": {},
   "source": [
    "## Rod cutting problem (Top Down Approach)"
   ]
  },
  {
   "cell_type": "code",
   "execution_count": 82,
   "metadata": {},
   "outputs": [],
   "source": [
    "def Rodcutting(p,n):\n",
    "    r=[-1]*(n+1)\n",
    "    return memorizedrodcutting(p,r,n)\n",
    "def memorizedrodcutting(p,r,n):\n",
    "    if r[n]>=0:\n",
    "        return r[n]\n",
    "    if n==0:\n",
    "        return 0\n",
    "    q=-1\n",
    "    for i in range(1,n+1):\n",
    "        q=max(q, p[i-1]+memorizedrodcutting(p,r,n-i))\n",
    "    r[n]=q\n",
    "    return q    "
   ]
  },
  {
   "cell_type": "code",
   "execution_count": 83,
   "metadata": {},
   "outputs": [
    {
     "data": {
      "text/plain": [
       "30"
      ]
     },
     "execution_count": 83,
     "metadata": {},
     "output_type": "execute_result"
    }
   ],
   "source": [
    "n=10\n",
    "p=[1,5,8,9,10,17,17,20,24,30]\n",
    "Rodcutting(p,n)"
   ]
  },
  {
   "cell_type": "markdown",
   "metadata": {},
   "source": [
    "### Bottom Top Approach"
   ]
  },
  {
   "cell_type": "code",
   "execution_count": 101,
   "metadata": {},
   "outputs": [],
   "source": [
    "def Rodscutting(p,n):\n",
    "    r=[-1]*(n+1)\n",
    "    s=[-1]*(n+1)\n",
    "    r[0]=0\n",
    "    for j in range(1,n+1):\n",
    "        q=-1\n",
    "        \n",
    "        for i in range(1,j+1):\n",
    "            \n",
    "            \n",
    "            if q<p[i-1]+r[j-i]:\n",
    "                q=p[i-1]+r[j-i]\n",
    "                s[j]=i    \n",
    "        r[j]=q\n",
    "    \n",
    "    print(\"revenue for rod length 1to n\")\n",
    "    print(r[1:])\n",
    "    print()\n",
    "    print(\"optimal size of the first piece to cuttoff\")\n",
    "    print(s[1:])\n",
    "            \n",
    "        "
   ]
  },
  {
   "cell_type": "code",
   "execution_count": 102,
   "metadata": {},
   "outputs": [
    {
     "name": "stdout",
     "output_type": "stream",
     "text": [
      "revenue for rod length 1to n\n",
      "[1, 5, 8, 10, 13, 17, 18, 22, 25, 30]\n",
      "\n",
      "optimal size of the first piece to cuttoff\n",
      "[1, 2, 3, 2, 2, 6, 1, 2, 3, 10]\n"
     ]
    }
   ],
   "source": [
    "Rodscutting(p,n)"
   ]
  },
  {
   "cell_type": "markdown",
   "metadata": {},
   "source": [
    "## Longest Common Subsequence "
   ]
  },
  {
   "cell_type": "code",
   "execution_count": 106,
   "metadata": {},
   "outputs": [],
   "source": [
    "def LCS(X,Y):\n",
    "    m=len(X)\n",
    "    n=len(Y)\n",
    "    L=[[None]*(n+1) for i in range(m+1)]  #L[m][n] list to store values\n",
    "    for i in range(m+1):\n",
    "        for j in range(n+1):\n",
    "            if i==0 or j==0:\n",
    "                L[i][j]=0\n",
    "            elif X[i-1]==Y[j-1]:\n",
    "                L[i][j]=L[i-1][j-1]+1\n",
    "            else:\n",
    "                L[i][j]=max(L[i-1][j],L[i][j-1])\n",
    "    index=L[m][n]      # length of LCS\n",
    "    \n",
    "    # finding LCS\n",
    "    lcs = [\"\"] * (index) \n",
    "    \n",
    "    i=m\n",
    "    j=n\n",
    "    while i>0 and j>0:\n",
    "        if X[i-1]==Y[j-1]:\n",
    "            lcs[index-1]=X[i-1]\n",
    "            index-=1\n",
    "            i-=1\n",
    "            j-=1\n",
    "        elif L[i-1][j]>L[i][j-1]:\n",
    "            i-=1\n",
    "        else:\n",
    "            j-=1\n",
    "            \n",
    "    print(\"\".join(lcs))     "
   ]
  },
  {
   "cell_type": "code",
   "execution_count": 107,
   "metadata": {},
   "outputs": [
    {
     "name": "stdout",
     "output_type": "stream",
     "text": [
      "GTAB\n"
     ]
    }
   ],
   "source": [
    "X=\"AGGTAB\"\n",
    "Y=\"GXTXAYB\"\n",
    "LCS(X,Y)"
   ]
  },
  {
   "cell_type": "markdown",
   "metadata": {},
   "source": [
    "#### 0/1 KnapSack PRoblem"
   ]
  },
  {
   "cell_type": "markdown",
   "metadata": {},
   "source": [
    "### Recursive approach(2^n)"
   ]
  },
  {
   "cell_type": "code",
   "execution_count": 18,
   "metadata": {},
   "outputs": [],
   "source": [
    "def RecKnapSack(wt,val,w,n):\n",
    "    if n==0 or w==0:\n",
    "        return 0\n",
    "    if (wt[n-1]> w): # not included\n",
    "        return RecKnapSack(wt,val,w,n-1)\n",
    "    else:\n",
    "        return max(val[n-1]+RecKnapSack(wt,val,w-wt[n-1], n-1), RecKnapSack(wt,val,w,n-1))"
   ]
  },
  {
   "cell_type": "code",
   "execution_count": 19,
   "metadata": {},
   "outputs": [
    {
     "name": "stdout",
     "output_type": "stream",
     "text": [
      "80\n"
     ]
    }
   ],
   "source": [
    "wt=[5,3,4,2]\n",
    "val=[60,50,70,30]\n",
    "W=5\n",
    "n=len(wt)\n",
    "print(RecKnapSack(wt, val, W,n))"
   ]
  },
  {
   "cell_type": "markdown",
   "metadata": {},
   "source": [
    "### Dynaming programming Approach(n*W)"
   ]
  },
  {
   "cell_type": "code",
   "execution_count": 20,
   "metadata": {},
   "outputs": [],
   "source": [
    "def KnapSack(wt,val,W):\n",
    "    n=len(wt)\n",
    "    K=[[0 for i in range(W+1)] for i in range (n+1)]\n",
    "    for i in range(n+1):\n",
    "        for w in range(W+1):\n",
    "            if i==0 or w==0:\n",
    "                pass\n",
    "            elif wt[i-1]<=w: # include , not include\n",
    "                K[i][w]=max(val[i-1]+K[i-1][w-wt[i-1]], K[i-1][w])\n",
    "            else:\n",
    "                K[i][w]=K[i-1][w]                # when weight is greater than max value than not included case\n",
    "                \n",
    "    print(K[n][W])\n",
    "    \n",
    "                "
   ]
  },
  {
   "cell_type": "code",
   "execution_count": 21,
   "metadata": {},
   "outputs": [
    {
     "name": "stdout",
     "output_type": "stream",
     "text": [
      "80\n"
     ]
    }
   ],
   "source": [
    "wt=[5,3,4,2]\n",
    "val=[60,50,70,30]\n",
    "W=5\n",
    "KnapSack(wt,val,W)"
   ]
  },
  {
   "cell_type": "markdown",
   "metadata": {},
   "source": [
    "## Fractional Knapsack problem"
   ]
  },
  {
   "cell_type": "code",
   "execution_count": 14,
   "metadata": {},
   "outputs": [],
   "source": [
    "class ItemValue:\n",
    "    def __init__(self, wt,val, index):\n",
    "        self.wt=wt\n",
    "        self.value=val\n",
    "        self.ind=index\n",
    "        self.cost=val//wt\n",
    "    def __lt__(self,other):\n",
    "        return self.cost<other.cost\n",
    "    \n",
    "def fractionalKnapSack(wt,val,W):\n",
    "    ival=[]\n",
    "    for i in range(len(wt)):\n",
    "        ival.append(ItemValue(wt[i],val[i],W))\n",
    "    ival.sort(reverse=True)\n",
    "    TotalValue=0\n",
    "    for i in ival:\n",
    "        curwt=int(i.wt)\n",
    "        curval=int(i.value)                     # W represent capacity\n",
    "        \n",
    "        if W-curwt>=0:\n",
    "            TotalValue+=curval\n",
    "            W-=curwt\n",
    "        else:\n",
    "            fraction=W/curwt\n",
    "            TotalValue+=curval*fraction\n",
    "            W=int(W-fraction*curwt) #termination condition when taken fraction of value\n",
    "            break\n",
    "    return TotalValue       \n",
    "            \n",
    "        \n"
   ]
  },
  {
   "cell_type": "code",
   "execution_count": 15,
   "metadata": {},
   "outputs": [],
   "source": [
    "wt = [10, 40, 20, 30] \n",
    "val = [60, 40, 100, 120] \n",
    "capacity = 50"
   ]
  },
  {
   "cell_type": "code",
   "execution_count": 16,
   "metadata": {},
   "outputs": [
    {
     "data": {
      "text/plain": [
       "240.0"
      ]
     },
     "execution_count": 16,
     "metadata": {},
     "output_type": "execute_result"
    }
   ],
   "source": [
    "fractionalKnapSack(wt,val,capacity)"
   ]
  },
  {
   "cell_type": "markdown",
   "metadata": {},
   "source": [
    "## Subset Sum problem"
   ]
  },
  {
   "cell_type": "markdown",
   "metadata": {},
   "source": [
    "#### Recursive solution"
   ]
  },
  {
   "cell_type": "code",
   "execution_count": 13,
   "metadata": {},
   "outputs": [],
   "source": [
    "\n",
    "def issubsetsum(A,n,sum):\n",
    "    if sum==0:\n",
    "        \n",
    "        return True\n",
    "    \n",
    "    \n",
    "    if n==0 and sum!=0:\n",
    "        return False\n",
    "    if A[n-1]>sum:\n",
    "        return issubsetsum(A,n-1,sum)\n",
    "    return issubsetsum(A,n-1,sum) or issubsetsum(A,n-1,sum-A[n-1])\n",
    "        "
   ]
  },
  {
   "cell_type": "code",
   "execution_count": 14,
   "metadata": {},
   "outputs": [],
   "source": [
    "A=[3, 34, 4, 12, 5, 2] \n",
    "sum=9\n",
    "n=len(A)"
   ]
  },
  {
   "cell_type": "code",
   "execution_count": 26,
   "metadata": {},
   "outputs": [
    {
     "name": "stdout",
     "output_type": "stream",
     "text": [
      "True\n"
     ]
    }
   ],
   "source": [
    "Ans=issubsetsum(A,n,sum)\n",
    "Ans\n",
    "print(Ans)\n",
    "\n"
   ]
  },
  {
   "cell_type": "code",
   "execution_count": 16,
   "metadata": {},
   "outputs": [
    {
     "name": "stdout",
     "output_type": "stream",
     "text": [
      "found subset\n"
     ]
    }
   ],
   "source": [
    "if Ans:\n",
    "    print(\"found subset\")\n",
    "else:\n",
    "    print(\"no subset\")"
   ]
  },
  {
   "cell_type": "markdown",
   "metadata": {},
   "source": [
    "## dynamic programming approach"
   ]
  },
  {
   "cell_type": "code",
   "execution_count": 24,
   "metadata": {},
   "outputs": [],
   "source": [
    "\n",
    "def issubsetsum(A,n,sum):\n",
    "    subset=[[False for i in range(sum+1)] for i in range(n+1)]\n",
    "    for i in range(n+1):     # when sum =0 answer is true\n",
    "        subset[i][0]=True\n",
    "    for i in range(1,sum+1):  # when sum!=0 and n=0 ans is false\n",
    "        subset[0][i]=False\n",
    "    for i in range(1,n+1):\n",
    "        for j in range(1,sum+1):\n",
    "            if j<A[i-1]:\n",
    "                subset[i][j]=subset[i-1][j]\n",
    "            else:\n",
    "                subset[i][j]=subset[i-1][j] or subset[i-1][j-A[i-1]]\n",
    "    return subset[n][sum]  "
   ]
  },
  {
   "cell_type": "code",
   "execution_count": 25,
   "metadata": {},
   "outputs": [
    {
     "name": "stdout",
     "output_type": "stream",
     "text": [
      "True\n"
     ]
    }
   ],
   "source": [
    "Ans=issubsetsum(A,n,sum)\n",
    "print(Ans)\n"
   ]
  },
  {
   "cell_type": "code",
   "execution_count": null,
   "metadata": {},
   "outputs": [],
   "source": []
  }
 ],
 "metadata": {
  "kernelspec": {
   "display_name": "Python 3",
   "language": "python",
   "name": "python3"
  },
  "language_info": {
   "codemirror_mode": {
    "name": "ipython",
    "version": 3
   },
   "file_extension": ".py",
   "mimetype": "text/x-python",
   "name": "python",
   "nbconvert_exporter": "python",
   "pygments_lexer": "ipython3",
   "version": "3.6.7"
  }
 },
 "nbformat": 4,
 "nbformat_minor": 2
}
