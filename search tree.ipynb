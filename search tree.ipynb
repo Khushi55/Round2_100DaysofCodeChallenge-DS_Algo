{
 "cells": [
  {
   "cell_type": "markdown",
   "metadata": {},
   "source": [
    "## Binary Search Tree"
   ]
  },
  {
   "cell_type": "code",
   "execution_count": 6,
   "metadata": {},
   "outputs": [],
   "source": [
    "class Node:\n",
    "    def __init__(self,val):\n",
    "        self.val=val\n",
    "        self.left=None\n",
    "        self.right=None\n",
    "        "
   ]
  },
  {
   "cell_type": "code",
   "execution_count": 45,
   "metadata": {},
   "outputs": [],
   "source": [
    "class Tree:\n",
    "        \n",
    "        \n",
    "    def insert(self,root,val):\n",
    "        node=Node(val)\n",
    "        if root is None:\n",
    "            root=node\n",
    "        elif root.val<node.val:\n",
    "            if root.right is None:\n",
    "                root.right=node\n",
    "            else:\n",
    "                self.insert(root.right,val)\n",
    "        else:\n",
    "            if root.left is None:\n",
    "                root.left=node\n",
    "\n",
    "            else:\n",
    "                self.insert(root.left,val)\n",
    "     \n",
    "    def inorder(self,root):\n",
    "        if root:\n",
    "            self.inorder(root.left)\n",
    "            print(root.val, end=' ')\n",
    "            self.inorder(root.right)\n",
    "            \n",
    "    def search(self,root,data):\n",
    "        if root:\n",
    "            if root.val==data:\n",
    "                return (root)\n",
    "            elif root.val<data:\n",
    "                return self.search(root.right,data)\n",
    "            else:\n",
    "                return self.search(root.left,data)\n",
    "             \n",
    "    \n",
    "        \n",
    "    def inorder_predecessor(self,root):   # max value in its left subtree\n",
    "\n",
    "        if root.left:\n",
    "            root=root.left\n",
    "            while(root.right):\n",
    "                root=root.right\n",
    "            return root  \n",
    "        \n",
    "    def inorder_successor(self,root):\n",
    "        if root.right:\n",
    "            root=root.right\n",
    "            while(root.left):\n",
    "                root=root.left\n",
    "            return root   \n",
    "        \n",
    "    def minvalaue(self,root):\n",
    "        if root.left:\n",
    "            while(root.left):\n",
    "                root=root.left\n",
    "            \n",
    "        return root.val\n",
    "    \n",
    "    \n",
    "    def maxvalue(self,root):\n",
    "        if root.right:\n",
    "            while(root.right):\n",
    "                root=root.right\n",
    "        return root\n",
    "    \n",
    "    \n",
    "    def delete(self,root,data):\n",
    "        if root is None:\n",
    "            return \n",
    "        if data<root.val:\n",
    "            root.left=self.delete(root.left,data)\n",
    "            \n",
    "        elif data>root.val:\n",
    "            root.right=self.delete(root.right,data)\n",
    "        \n",
    "        else:\n",
    "            if root.left is None:\n",
    "                temp=root.right\n",
    "                root=None\n",
    "                return temp\n",
    "            elif root.right is None:\n",
    "                temp=root.left\n",
    "                root=None\n",
    "                return temp\n",
    "            \n",
    "            else:\n",
    "                temp=self.inorder_predecessor(root)\n",
    "                root.val=temp.val\n",
    "                #delete the inorder predecssor\n",
    "                root.left=self.delete(root.left,temp.val) # here root.left is taken because i have used inorder precessor\n",
    "        return root\n",
    "        \n",
    "            \n",
    "       \n",
    "            \n",
    "            \n",
    "            \n",
    "            \n",
    "            \n",
    "            \n",
    "                \n",
    "        \n",
    "        \n",
    "        \n",
    "        \n",
    "                    \n",
    "            "
   ]
  },
  {
   "cell_type": "code",
   "execution_count": 46,
   "metadata": {},
   "outputs": [],
   "source": [
    "B=Tree() "
   ]
  },
  {
   "cell_type": "code",
   "execution_count": 47,
   "metadata": {},
   "outputs": [],
   "source": [
    "r=Node(50)"
   ]
  },
  {
   "cell_type": "code",
   "execution_count": 48,
   "metadata": {},
   "outputs": [],
   "source": [
    "B.insert(r,20)"
   ]
  },
  {
   "cell_type": "code",
   "execution_count": 49,
   "metadata": {},
   "outputs": [],
   "source": [
    "B.insert(r,40)"
   ]
  },
  {
   "cell_type": "code",
   "execution_count": 50,
   "metadata": {},
   "outputs": [],
   "source": [
    "B.insert(r,100)"
   ]
  },
  {
   "cell_type": "code",
   "execution_count": 51,
   "metadata": {},
   "outputs": [],
   "source": [
    "B.insert(r,10)"
   ]
  },
  {
   "cell_type": "code",
   "execution_count": 52,
   "metadata": {},
   "outputs": [
    {
     "name": "stdout",
     "output_type": "stream",
     "text": [
      "10 20 40 50 100 "
     ]
    }
   ],
   "source": [
    "B.inorder(r)"
   ]
  },
  {
   "cell_type": "code",
   "execution_count": 53,
   "metadata": {},
   "outputs": [
    {
     "data": {
      "text/plain": [
       "<__main__.Node at 0x7f2230379860>"
      ]
     },
     "execution_count": 53,
     "metadata": {},
     "output_type": "execute_result"
    }
   ],
   "source": [
    "B.search(r,20)\n"
   ]
  },
  {
   "cell_type": "code",
   "execution_count": 54,
   "metadata": {},
   "outputs": [
    {
     "data": {
      "text/plain": [
       "<__main__.Node at 0x7f2230379be0>"
      ]
     },
     "execution_count": 54,
     "metadata": {},
     "output_type": "execute_result"
    }
   ],
   "source": [
    "B.inorder_predecessor(r)"
   ]
  },
  {
   "cell_type": "code",
   "execution_count": 55,
   "metadata": {},
   "outputs": [
    {
     "data": {
      "text/plain": [
       "<__main__.Node at 0x7f2230379a58>"
      ]
     },
     "execution_count": 55,
     "metadata": {},
     "output_type": "execute_result"
    }
   ],
   "source": [
    "B.delete(r,20)"
   ]
  },
  {
   "cell_type": "code",
   "execution_count": 56,
   "metadata": {},
   "outputs": [
    {
     "name": "stdout",
     "output_type": "stream",
     "text": [
      "10 40 50 100 "
     ]
    }
   ],
   "source": [
    "B.inorder(r)"
   ]
  },
  {
   "cell_type": "code",
   "execution_count": 57,
   "metadata": {},
   "outputs": [],
   "source": [
    "\n",
    "B.insert(r,5)"
   ]
  },
  {
   "cell_type": "code",
   "execution_count": 58,
   "metadata": {},
   "outputs": [],
   "source": [
    "B.insert(r,7)"
   ]
  },
  {
   "cell_type": "code",
   "execution_count": 59,
   "metadata": {},
   "outputs": [],
   "source": [
    "B.insert(r,9)"
   ]
  },
  {
   "cell_type": "code",
   "execution_count": 60,
   "metadata": {},
   "outputs": [
    {
     "name": "stdout",
     "output_type": "stream",
     "text": [
      "5 7 9 10 40 50 100 "
     ]
    }
   ],
   "source": [
    "B.inorder(r)"
   ]
  },
  {
   "cell_type": "code",
   "execution_count": 61,
   "metadata": {},
   "outputs": [
    {
     "data": {
      "text/plain": [
       "<__main__.Node at 0x7f2230379a58>"
      ]
     },
     "execution_count": 61,
     "metadata": {},
     "output_type": "execute_result"
    }
   ],
   "source": [
    "B.delete(r,10)"
   ]
  },
  {
   "cell_type": "code",
   "execution_count": 62,
   "metadata": {},
   "outputs": [
    {
     "name": "stdout",
     "output_type": "stream",
     "text": [
      "5 7 9 40 50 100 "
     ]
    }
   ],
   "source": [
    "B.inorder(r)"
   ]
  },
  {
   "cell_type": "code",
   "execution_count": null,
   "metadata": {},
   "outputs": [],
   "source": []
  }
 ],
 "metadata": {
  "kernelspec": {
   "display_name": "Python 3",
   "language": "python",
   "name": "python3"
  },
  "language_info": {
   "codemirror_mode": {
    "name": "ipython",
    "version": 3
   },
   "file_extension": ".py",
   "mimetype": "text/x-python",
   "name": "python",
   "nbconvert_exporter": "python",
   "pygments_lexer": "ipython3",
   "version": "3.6.7"
  }
 },
 "nbformat": 4,
 "nbformat_minor": 2
}
