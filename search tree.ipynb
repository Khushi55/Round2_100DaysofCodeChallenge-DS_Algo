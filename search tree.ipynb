{
 "cells": [
  {
   "cell_type": "markdown",
   "metadata": {},
   "source": [
    "## Binary Search Tree"
   ]
  },
  {
   "cell_type": "code",
   "execution_count": 5,
   "metadata": {},
   "outputs": [],
   "source": [
    "class Node:\n",
    "    def __init__(self,val):\n",
    "        self.val=val\n",
    "        self.left=None\n",
    "        self.right=None\n",
    "        "
   ]
  },
  {
   "cell_type": "code",
   "execution_count": 6,
   "metadata": {},
   "outputs": [],
   "source": [
    "class Tree:\n",
    "        \n",
    "        \n",
    "    def insert(self,root,val):\n",
    "        node=Node(val)\n",
    "        if root is None:\n",
    "            root=node\n",
    "        elif root.val<node.val:\n",
    "            if root.right is None:\n",
    "                root.right=node\n",
    "            else:\n",
    "                self.insert(root.right,val)\n",
    "        else:\n",
    "            if root.left is None:\n",
    "                root.left=node\n",
    "\n",
    "            else:\n",
    "                self.insert(root.left,val)\n",
    "     \n",
    "    def inorder(self,root):\n",
    "        if root:\n",
    "            self.inorder(root.left)\n",
    "            print(root.val, end=' ')\n",
    "            self.inorder(root.right)\n",
    "            \n",
    "    def search(self,root,data):\n",
    "        if root:\n",
    "            if root.val==data:\n",
    "                return (root)\n",
    "            elif root.val<data:\n",
    "                return self.search(root.right,data)\n",
    "            else:\n",
    "                return self.search(root.left,data)\n",
    "             \n",
    "    \n",
    "        \n",
    "    def inorder_predecessor(self,root):   # max value in its left subtree\n",
    "\n",
    "        if root.left:\n",
    "            root=root.left\n",
    "            while(root.right):\n",
    "                root=root.right\n",
    "            return root  \n",
    "        \n",
    "    def inorder_successor(self,root):\n",
    "        if root.right:\n",
    "            root=root.right\n",
    "            while(root.left):\n",
    "                root=root.left\n",
    "            return root   \n",
    "        \n",
    "    def minvalaue(self,root):\n",
    "        if root.left:\n",
    "            while(root.left):\n",
    "                root=root.left\n",
    "            \n",
    "        return root.val\n",
    "    \n",
    "    \n",
    "    def maxvalue(self,root):\n",
    "        if root.right:\n",
    "            while(root.right):\n",
    "                root=root.right\n",
    "        return root\n",
    "    \n",
    "    \n",
    "    def delete(self,root,data):\n",
    "        if root is None:\n",
    "            return \n",
    "        if data<root.val:\n",
    "            root.left=self.delete(root.left,data)\n",
    "            \n",
    "        elif data>root.val:\n",
    "            root.right=self.delete(root.right,data)\n",
    "        \n",
    "        else:\n",
    "            if root.left is None:\n",
    "                temp=root.right\n",
    "                root=None\n",
    "                return temp\n",
    "            elif root.right is None:\n",
    "                temp=root.left\n",
    "                root=None\n",
    "                return temp\n",
    "            \n",
    "            else:\n",
    "                temp=self.inorder_predecessor(root)\n",
    "                root.val=temp.val\n",
    "                #delete the inorder predecssor\n",
    "                root.left=self.delete(root.left,temp.val) # here root.left is taken because i have used inorder precessor\n",
    "        return root\n",
    "        \n",
    "            \n",
    "       \n",
    "            \n",
    "            \n",
    "            \n",
    "            \n",
    "            \n",
    "            \n",
    "                \n",
    "        \n",
    "        \n",
    "        \n",
    "        \n",
    "                    \n",
    "            "
   ]
  },
  {
   "cell_type": "code",
   "execution_count": 7,
   "metadata": {},
   "outputs": [],
   "source": [
    "B=Tree() "
   ]
  },
  {
   "cell_type": "code",
   "execution_count": 8,
   "metadata": {},
   "outputs": [],
   "source": [
    "r=Node(50)"
   ]
  },
  {
   "cell_type": "code",
   "execution_count": 9,
   "metadata": {},
   "outputs": [],
   "source": [
    "B.insert(r,20)"
   ]
  },
  {
   "cell_type": "code",
   "execution_count": 10,
   "metadata": {},
   "outputs": [],
   "source": [
    "B.insert(r,40)"
   ]
  },
  {
   "cell_type": "code",
   "execution_count": 11,
   "metadata": {},
   "outputs": [],
   "source": [
    "B.insert(r,100)"
   ]
  },
  {
   "cell_type": "code",
   "execution_count": 51,
   "metadata": {},
   "outputs": [],
   "source": [
    "B.insert(r,10)"
   ]
  },
  {
   "cell_type": "code",
   "execution_count": 52,
   "metadata": {},
   "outputs": [
    {
     "name": "stdout",
     "output_type": "stream",
     "text": [
      "10 20 40 50 100 "
     ]
    }
   ],
   "source": [
    "B.inorder(r)"
   ]
  },
  {
   "cell_type": "code",
   "execution_count": 53,
   "metadata": {},
   "outputs": [
    {
     "data": {
      "text/plain": [
       "<__main__.Node at 0x7f2230379860>"
      ]
     },
     "execution_count": 53,
     "metadata": {},
     "output_type": "execute_result"
    }
   ],
   "source": [
    "B.search(r,20)\n"
   ]
  },
  {
   "cell_type": "code",
   "execution_count": 54,
   "metadata": {},
   "outputs": [
    {
     "data": {
      "text/plain": [
       "<__main__.Node at 0x7f2230379be0>"
      ]
     },
     "execution_count": 54,
     "metadata": {},
     "output_type": "execute_result"
    }
   ],
   "source": [
    "B.inorder_predecessor(r)"
   ]
  },
  {
   "cell_type": "code",
   "execution_count": 55,
   "metadata": {},
   "outputs": [
    {
     "data": {
      "text/plain": [
       "<__main__.Node at 0x7f2230379a58>"
      ]
     },
     "execution_count": 55,
     "metadata": {},
     "output_type": "execute_result"
    }
   ],
   "source": [
    "B.delete(r,20)"
   ]
  },
  {
   "cell_type": "code",
   "execution_count": 56,
   "metadata": {},
   "outputs": [
    {
     "name": "stdout",
     "output_type": "stream",
     "text": [
      "10 40 50 100 "
     ]
    }
   ],
   "source": [
    "B.inorder(r)"
   ]
  },
  {
   "cell_type": "code",
   "execution_count": 57,
   "metadata": {},
   "outputs": [],
   "source": [
    "\n",
    "B.insert(r,5)"
   ]
  },
  {
   "cell_type": "code",
   "execution_count": 58,
   "metadata": {},
   "outputs": [],
   "source": [
    "B.insert(r,7)"
   ]
  },
  {
   "cell_type": "code",
   "execution_count": 59,
   "metadata": {},
   "outputs": [],
   "source": [
    "B.insert(r,9)"
   ]
  },
  {
   "cell_type": "code",
   "execution_count": 60,
   "metadata": {},
   "outputs": [
    {
     "name": "stdout",
     "output_type": "stream",
     "text": [
      "5 7 9 10 40 50 100 "
     ]
    }
   ],
   "source": [
    "B.inorder(r)"
   ]
  },
  {
   "cell_type": "code",
   "execution_count": 61,
   "metadata": {},
   "outputs": [
    {
     "data": {
      "text/plain": [
       "<__main__.Node at 0x7f2230379a58>"
      ]
     },
     "execution_count": 61,
     "metadata": {},
     "output_type": "execute_result"
    }
   ],
   "source": [
    "B.delete(r,10)"
   ]
  },
  {
   "cell_type": "code",
   "execution_count": 62,
   "metadata": {},
   "outputs": [
    {
     "name": "stdout",
     "output_type": "stream",
     "text": [
      "5 7 9 40 50 100 "
     ]
    }
   ],
   "source": [
    "B.inorder(r)"
   ]
  },
  {
   "cell_type": "markdown",
   "metadata": {},
   "source": [
    "## AVL Tree"
   ]
  },
  {
   "cell_type": "code",
   "execution_count": 1,
   "metadata": {},
   "outputs": [],
   "source": [
    "class Node:\n",
    "    def __init__(self,val):\n",
    "        self.val=val\n",
    "        self.left=None\n",
    "        self.right=None\n",
    "        self.height=1\n",
    "        "
   ]
  },
  {
   "cell_type": "code",
   "execution_count": 59,
   "metadata": {},
   "outputs": [],
   "source": [
    "class AvlTree:\n",
    "    def insert(self,root,data):\n",
    "        if root is None:\n",
    "            return Node(data)\n",
    "        elif root.val<data:\n",
    "            root.right=self.insert(root.right,data)\n",
    "            \n",
    "        else:\n",
    "            root.left=self.insert(root.left,data)\n",
    "            \n",
    "        root.height=1+max(self.getheight(root.left), self.getheight(root.right))\n",
    "        balance=self.getbalance(root)\n",
    "        \n",
    "        if balance>1 and data<root.left.val:  ##LL Rotation\n",
    "            return self.rightrotate(root)\n",
    "        if balance<-1 and data>root.right.val:    ##RR Rotation\n",
    "            return self.leftrotate(root)\n",
    "        if balance>1 and data>root.left.val:       #lr rotation\n",
    "            root.left=self.leftrotate(root.left)\n",
    "            return self.rightrotate(root)\n",
    "        if balance<-1 and data<root.right.val:     # RL rotation\n",
    "            root.right=self.rightrotate(root.right)\n",
    "            return self.leftrotate(root)\n",
    "        \n",
    "        return root\n",
    "    \n",
    "    \n",
    "    def getheight(self,root):\n",
    "        if root is None:\n",
    "            return 0\n",
    "        return root.height\n",
    "    \n",
    "    def getbalance(self,root):\n",
    "        if not root:\n",
    "            return 0\n",
    "        \n",
    "        return self.getheight(root.left)-self.getheight(root.right)\n",
    "                          \n",
    "    def leftrotate(self,A):\n",
    "        B=A.right\n",
    "        T2=B.left\n",
    "        B.left=A\n",
    "        A.right=T2\n",
    "        \n",
    "        A.height= 1+max(self.getheight(A.left),self.getheight(A.right))\n",
    "        B.height=1+max(self.getheight(B.left),self.getheight(B.right))\n",
    "        \n",
    "        return B\n",
    "    \n",
    "    def rightrotate(self,A):\n",
    "        B=A.left\n",
    "        T3=B.right\n",
    "        B.right=A\n",
    "        A.left=T3\n",
    "        \n",
    "        A.height= 1+max(self.getheight(A.left),self.getheight(A.right))\n",
    "        B.height=1+max(self.getheight(B.left),self.getheight(B.right))\n",
    "        \n",
    "        return B\n",
    "    \n",
    "    def preorder(self,root):\n",
    "        if not root:\n",
    "            return\n",
    "        print(root.val, end=' ')\n",
    "        self.preorder(root.left)\n",
    "       \n",
    "        self.preorder(root.right)\n",
    "        \n",
    "                          \n",
    "                \n",
    "            "
   ]
  },
  {
   "cell_type": "code",
   "execution_count": 60,
   "metadata": {},
   "outputs": [],
   "source": [
    "A=AvlTree()"
   ]
  },
  {
   "cell_type": "code",
   "execution_count": 61,
   "metadata": {},
   "outputs": [],
   "source": [
    "root=None"
   ]
  },
  {
   "cell_type": "code",
   "execution_count": 62,
   "metadata": {},
   "outputs": [],
   "source": [
    "root=A.insert(root,10)"
   ]
  },
  {
   "cell_type": "code",
   "execution_count": 63,
   "metadata": {},
   "outputs": [],
   "source": [
    "root=A.insert(root,20)"
   ]
  },
  {
   "cell_type": "code",
   "execution_count": 64,
   "metadata": {},
   "outputs": [],
   "source": [
    "root=A.insert(root,30)"
   ]
  },
  {
   "cell_type": "code",
   "execution_count": 65,
   "metadata": {},
   "outputs": [],
   "source": [
    "root=A.insert(root,40)"
   ]
  },
  {
   "cell_type": "code",
   "execution_count": 66,
   "metadata": {},
   "outputs": [],
   "source": [
    "root=A.insert(root,50)"
   ]
  },
  {
   "cell_type": "code",
   "execution_count": 67,
   "metadata": {},
   "outputs": [],
   "source": [
    "root=A.insert(root,25)"
   ]
  },
  {
   "cell_type": "code",
   "execution_count": 68,
   "metadata": {},
   "outputs": [
    {
     "name": "stdout",
     "output_type": "stream",
     "text": [
      "30 20 10 25 40 50 "
     ]
    }
   ],
   "source": [
    "A.preorder(root)"
   ]
  },
  {
   "cell_type": "markdown",
   "metadata": {},
   "source": [
    "## Splay Tree"
   ]
  },
  {
   "cell_type": "markdown",
   "metadata": {},
   "source": [
    "#### Searching"
   ]
  },
  {
   "cell_type": "code",
   "execution_count": 142,
   "metadata": {},
   "outputs": [],
   "source": [
    "class Node:\n",
    "    def __init__(self,key):\n",
    "        self.key=key\n",
    "        self.left=None\n",
    "        self.right=None\n",
    "        \n",
    "        \n",
    "        "
   ]
  },
  {
   "cell_type": "code",
   "execution_count": 297,
   "metadata": {},
   "outputs": [],
   "source": [
    "class SplayTree:\n",
    "    def rightrotate(self,A):\n",
    "        B=A.left\n",
    "        A.left=B.right\n",
    "        B.right=A\n",
    "        \n",
    "        return B\n",
    "    \n",
    "    def leftrotate(self,A):\n",
    "        B=A.right\n",
    "        A.right=B.left\n",
    "        B.left=A\n",
    "        \n",
    "        return B\n",
    "        \n",
    "    def splay(self,root,key):\n",
    "        if root==None or root.key==key:\n",
    "            return root\n",
    "        if root.key>key:\n",
    "            if root.left==None:\n",
    "                return root\n",
    "            elif root.left.key>key:  #Zig Zig\n",
    "                root.left.left=self.splay(root.left.left,key)\n",
    "                root=self.rightrotate(root)\n",
    "                \n",
    "            elif root.left.key<key: #Zig Zag\n",
    "                root.left.right=self.splay(root.left.right,key)\n",
    "                if root.left.right!=None:\n",
    "                    root.left=self.leftrotate(root.left)\n",
    "            \n",
    "            p= root if root.left==None else self.rightrotate(root)\n",
    "            return p\n",
    "        else : # kEY lies in right subtree\n",
    "            if root.right==None:\n",
    "                return root\n",
    "            if root.right.key>key: # Zag zig\n",
    "                root.right.left=self.splay(root.right.left,key)\n",
    "                if root.right.left!=None:\n",
    "                    root.right=self.rightrotate(root.right)\n",
    "            elif root.right.key<key: #Zag Zag\n",
    "                root.right.right=self.splay(root.right.right,key)\n",
    "                root=self.leftrotate(root)\n",
    "            return root if root.right==None else self.leftrotate(root)\n",
    "            \n",
    "    def search(self,root,key):\n",
    "        return self.splay(root,key)\n",
    "    \n",
    "    def insert(self,root,key):\n",
    "        if root==None:\n",
    "            return Node(Key)\n",
    "        root=self.splay(root,key)\n",
    "        if root.key==key:\n",
    "            return root\n",
    "        p=Node(key)\n",
    "        if root.key>key:\n",
    "            p.right=root\n",
    "           \n",
    "            p.left=root.left\n",
    "            root.left=None\n",
    "        else:\n",
    "            p.left=root\n",
    "            p.right=root.right\n",
    "            root.right=None\n",
    "        return p\n",
    "    \n",
    "    def delete(self,root,key):\n",
    "        if root==None:\n",
    "            return root\n",
    "        root=self.splay(root,key)\n",
    "        if root.key!=key:\n",
    "            return root\n",
    "        else:\n",
    "            root1=root.left\n",
    "            root2=root.right\n",
    "            if root1 is None:\n",
    "                return root2\n",
    "            else:\n",
    "                root1=self.splay(root1,key)\n",
    "                root1.right=root2\n",
    "                return root1\n",
    "            \n",
    "                \n",
    "            \n",
    "            \n",
    "            \n",
    "                \n",
    "                    \n",
    "        \n",
    " \n",
    "    def preorder(self,root):\n",
    "        if root!=None:\n",
    "            print(root.key,end=' ')\n",
    "            self.preorder(root.left)\n",
    "            self.preorder(root.right)\n",
    "            \n",
    "                                \n",
    "                \n",
    "        "
   ]
  },
  {
   "cell_type": "code",
   "execution_count": 298,
   "metadata": {},
   "outputs": [],
   "source": [
    "root=Node(100)\n",
    "   \n",
    "    "
   ]
  },
  {
   "cell_type": "code",
   "execution_count": 299,
   "metadata": {},
   "outputs": [],
   "source": [
    "root.left=Node(50)\n",
    "root.right =Node(200)\n",
    "root.left.left = Node(40) \n",
    " \n",
    "root.left.left.left = Node(30)  \n",
    "root.left.left.left.left = Node(20) \n"
   ]
  },
  {
   "cell_type": "code",
   "execution_count": 300,
   "metadata": {},
   "outputs": [],
   "source": [
    "R=SplayTree()"
   ]
  },
  {
   "cell_type": "code",
   "execution_count": 301,
   "metadata": {},
   "outputs": [],
   "source": [
    "root=R.search(root,20)"
   ]
  },
  {
   "cell_type": "code",
   "execution_count": 302,
   "metadata": {},
   "outputs": [
    {
     "name": "stdout",
     "output_type": "stream",
     "text": [
      "20 50 30 40 100 200 "
     ]
    }
   ],
   "source": [
    "R.preorder(root)"
   ]
  },
  {
   "cell_type": "code",
   "execution_count": 303,
   "metadata": {},
   "outputs": [],
   "source": [
    "root=R.insert(root,25)"
   ]
  },
  {
   "cell_type": "code",
   "execution_count": 304,
   "metadata": {},
   "outputs": [
    {
     "name": "stdout",
     "output_type": "stream",
     "text": [
      "25 20 30 50 40 100 200 "
     ]
    }
   ],
   "source": [
    "R.preorder(root)"
   ]
  },
  {
   "cell_type": "code",
   "execution_count": 305,
   "metadata": {},
   "outputs": [],
   "source": [
    "root=R.delete(root,40)"
   ]
  },
  {
   "cell_type": "code",
   "execution_count": 306,
   "metadata": {},
   "outputs": [
    {
     "name": "stdout",
     "output_type": "stream",
     "text": [
      "30 25 20 50 100 200 "
     ]
    }
   ],
   "source": [
    "R.preorder(root)"
   ]
  },
  {
   "cell_type": "code",
   "execution_count": 307,
   "metadata": {},
   "outputs": [],
   "source": [
    "r=Node(6)\n",
    "r.left = Node(1) \n",
    "r.right = Node(9)\n",
    "r.left.right = Node(4) \n",
    "r.left.right.left = Node(2)\n",
    "r.right.left = Node(7)\n"
   ]
  },
  {
   "cell_type": "code",
   "execution_count": 308,
   "metadata": {},
   "outputs": [],
   "source": [
    "R1=SplayTree()"
   ]
  },
  {
   "cell_type": "code",
   "execution_count": 309,
   "metadata": {},
   "outputs": [],
   "source": [
    "root1=R1.delete(r,4)"
   ]
  },
  {
   "cell_type": "code",
   "execution_count": 310,
   "metadata": {},
   "outputs": [
    {
     "name": "stdout",
     "output_type": "stream",
     "text": [
      "2 1 6 9 7 "
     ]
    }
   ],
   "source": [
    "R1.preorder(root1)"
   ]
  },
  {
   "cell_type": "code",
   "execution_count": null,
   "metadata": {},
   "outputs": [],
   "source": []
  }
 ],
 "metadata": {
  "kernelspec": {
   "display_name": "Python 3",
   "language": "python",
   "name": "python3"
  },
  "language_info": {
   "codemirror_mode": {
    "name": "ipython",
    "version": 3
   },
   "file_extension": ".py",
   "mimetype": "text/x-python",
   "name": "python",
   "nbconvert_exporter": "python",
   "pygments_lexer": "ipython3",
   "version": "3.6.7"
  }
 },
 "nbformat": 4,
 "nbformat_minor": 2
}
