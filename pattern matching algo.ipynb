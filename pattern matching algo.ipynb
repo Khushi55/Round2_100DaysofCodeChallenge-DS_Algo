{
 "cells": [
  {
   "cell_type": "markdown",
   "metadata": {},
   "source": [
    "## Brute Force"
   ]
  },
  {
   "cell_type": "code",
   "execution_count": 2,
   "metadata": {},
   "outputs": [],
   "source": [
    "def find_brute(T,P):\n",
    "    n,m=len(T), len(P)\n",
    "    for i in range(n-m+1):\n",
    "        k=0\n",
    "        while k<m and T[i+k]==P[k]:\n",
    "            k+=1\n",
    "        if k==m:\n",
    "            return i\n",
    "    return -1"
   ]
  },
  {
   "cell_type": "code",
   "execution_count": 5,
   "metadata": {},
   "outputs": [
    {
     "data": {
      "text/plain": [
       "6"
      ]
     },
     "execution_count": 5,
     "metadata": {},
     "output_type": "execute_result"
    }
   ],
   "source": [
    "T=\"harshtanuharsh\"\n",
    "P=\"anu\"\n",
    "find_brute(T,P)"
   ]
  },
  {
   "cell_type": "markdown",
   "metadata": {},
   "source": [
    "## Knuth-Morris-Pratt Algo"
   ]
  },
  {
   "cell_type": "markdown",
   "metadata": {},
   "source": [
    "###### Computing failure function"
   ]
  },
  {
   "cell_type": "code",
   "execution_count": 7,
   "metadata": {},
   "outputs": [],
   "source": [
    "def compute_kmp_fail(P):\n",
    "    m=len(P)\n",
    "    fail=[0]*m\n",
    "    j=1\n",
    "    k=0\n",
    "    while j<m:\n",
    "        if P[k]==P[j]:\n",
    "            fail[j]=k+1\n",
    "            j+=1\n",
    "            k+=1\n",
    "        elif k>0: #k allow a matching prefix\n",
    "            k=fail[k-1]\n",
    "        else:\n",
    "            j+=1\n",
    "    return fail\n",
    "\n",
    "                "
   ]
  },
  {
   "cell_type": "code",
   "execution_count": 14,
   "metadata": {},
   "outputs": [],
   "source": [
    "def find_Kmp(T,P):\n",
    "    #Return the lowest index at which substring P begins or else -1\n",
    "    n, m=len(T), len(P)\n",
    "    if m==0:\n",
    "        return 0\n",
    "    fail=compute_kmp_fail(P)\n",
    "    j=0\n",
    "    k=0\n",
    "    while j<n:\n",
    "        if T[j]==P[k]:\n",
    "            if k==m-1: # match is completed\n",
    "                return j-m +1\n",
    "            j+=1           # countinuing matching\n",
    "            k+=1\n",
    "        elif k>0:\n",
    "            k=fail[k-1]        # reuse suffix of P[0:K]\n",
    "        else:\n",
    "            j+=1\n",
    "    return -1     # string not found\n",
    "\n",
    "                \n",
    "            \n",
    "                \n",
    "            "
   ]
  },
  {
   "cell_type": "code",
   "execution_count": 15,
   "metadata": {},
   "outputs": [
    {
     "data": {
      "text/plain": [
       "6"
      ]
     },
     "execution_count": 15,
     "metadata": {},
     "output_type": "execute_result"
    }
   ],
   "source": [
    "find_Kmp(T,P)"
   ]
  },
  {
   "cell_type": "markdown",
   "metadata": {},
   "source": [
    "## Boyre Moore Horespool"
   ]
  },
  {
   "cell_type": "code",
   "execution_count": 26,
   "metadata": {},
   "outputs": [],
   "source": [
    "def boyremoorehorspool(T,P):\n",
    "    n,m=len(T),len(P)\n",
    "    if m>n:\n",
    "        return -1\n",
    "    skip=[]\n",
    "    for k in range(256):\n",
    "        skip.append(m)\n",
    "    for k in range(m-1):\n",
    "        skip[ord(P[k])]=m-k-1\n",
    "        \n",
    "    k=m-1\n",
    "    \n",
    "    while k<n:\n",
    "        j=m-1\n",
    "        i=k\n",
    "        while j>=0 and T[i]==P[j]:\n",
    "            j-=1\n",
    "            i-=1\n",
    "        if j==-1:\n",
    "            return i+1\n",
    "        k+=skip[ord(T[k])]\n",
    "    return -1"
   ]
  },
  {
   "cell_type": "code",
   "execution_count": 27,
   "metadata": {},
   "outputs": [
    {
     "data": {
      "text/plain": [
       "6"
      ]
     },
     "execution_count": 27,
     "metadata": {},
     "output_type": "execute_result"
    }
   ],
   "source": [
    "boyremoorehorspool(T,P)"
   ]
  },
  {
   "cell_type": "code",
   "execution_count": null,
   "metadata": {},
   "outputs": [],
   "source": []
  },
  {
   "cell_type": "code",
   "execution_count": null,
   "metadata": {},
   "outputs": [],
   "source": []
  }
 ],
 "metadata": {
  "kernelspec": {
   "display_name": "Python 3",
   "language": "python",
   "name": "python3"
  },
  "language_info": {
   "codemirror_mode": {
    "name": "ipython",
    "version": 3
   },
   "file_extension": ".py",
   "mimetype": "text/x-python",
   "name": "python",
   "nbconvert_exporter": "python",
   "pygments_lexer": "ipython3",
   "version": "3.6.7"
  }
 },
 "nbformat": 4,
 "nbformat_minor": 2
}
