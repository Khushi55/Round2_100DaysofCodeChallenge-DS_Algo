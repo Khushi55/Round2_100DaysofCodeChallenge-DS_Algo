{
 "cells": [
  {
   "cell_type": "markdown",
   "metadata": {},
   "source": [
    "# Sorting"
   ]
  },
  {
   "cell_type": "markdown",
   "metadata": {},
   "source": [
    "## Merge sort  O(nlogn)"
   ]
  },
  {
   "cell_type": "code",
   "execution_count": 5,
   "metadata": {},
   "outputs": [],
   "source": [
    "def mergesort(arr):\n",
    "    if len(arr)>1:\n",
    "        mid=len(arr)//2\n",
    "        L=arr[:mid]\n",
    "        R=arr[mid:]\n",
    "        \n",
    "        \n",
    "        mergesort(L)\n",
    "        mergesort(R)\n",
    "        i=j=k=0\n",
    "        while i<len(L) and j<len(R):\n",
    "            if L[i]<=R[j]:\n",
    "                arr[k]=L[i]\n",
    "                i+=1\n",
    "            else:\n",
    "                arr[k]=R[j]\n",
    "                j+=1\n",
    "            k+=1\n",
    "        while(i<len(L)):\n",
    "            arr[k]=L[i]\n",
    "            k+=1\n",
    "            i+=1\n",
    "        while(j<len(R)):\n",
    "            arr[k]=R[j]\n",
    "            k+=1\n",
    "            j+=1\n",
    "            \n",
    "            \n",
    "            "
   ]
  },
  {
   "cell_type": "code",
   "execution_count": 6,
   "metadata": {},
   "outputs": [],
   "source": [
    "def PrintList(arr):\n",
    "    for i in range(len(arr)):\n",
    "        print(arr[i], end=' ')\n",
    "        print()\n",
    "        "
   ]
  },
  {
   "cell_type": "code",
   "execution_count": 7,
   "metadata": {},
   "outputs": [],
   "source": [
    "arr=[85,24,63,45,17,31,96,50]\n"
   ]
  },
  {
   "cell_type": "code",
   "execution_count": 8,
   "metadata": {},
   "outputs": [
    {
     "name": "stdout",
     "output_type": "stream",
     "text": [
      "85 \n",
      "24 \n",
      "63 \n",
      "45 \n",
      "17 \n",
      "31 \n",
      "96 \n",
      "50 \n"
     ]
    }
   ],
   "source": [
    "PrintList(arr)"
   ]
  },
  {
   "cell_type": "code",
   "execution_count": 9,
   "metadata": {},
   "outputs": [],
   "source": [
    "mergesort(arr)"
   ]
  },
  {
   "cell_type": "code",
   "execution_count": 10,
   "metadata": {},
   "outputs": [
    {
     "name": "stdout",
     "output_type": "stream",
     "text": [
      "17 \n",
      "24 \n",
      "31 \n",
      "45 \n",
      "50 \n",
      "63 \n",
      "85 \n",
      "96 \n"
     ]
    }
   ],
   "source": [
    "PrintList(arr)"
   ]
  },
  {
   "cell_type": "markdown",
   "metadata": {},
   "source": [
    "### merge sort linked list implementation"
   ]
  },
  {
   "cell_type": "code",
   "execution_count": 17,
   "metadata": {},
   "outputs": [],
   "source": [
    "from ipynb.fs.full.linkedlist import Linked_queue "
   ]
  },
  {
   "cell_type": "code",
   "execution_count": 206,
   "metadata": {},
   "outputs": [],
   "source": [
    "def merge(S1,S2,S):\n",
    "    while not S1.is_empty() and not S2.is_empty():\n",
    "        if S1.first()<=S2.first():\n",
    "            S.enqueue(S1.dequeue())\n",
    "        else:\n",
    "            S.enqueue(S2.dequeue())\n",
    "    while not S1.is_empty:\n",
    "        S.enqueue(S1.dequeue())\n",
    "    while not S2.is_empty:\n",
    "        S.enqueue(S2.dequeue())\n",
    "    return S\n",
    "            \n",
    "\n",
    "\n",
    "\n",
    "def merge_Sort(S):\n",
    "    n=len(S)\n",
    "    \n",
    "    if n<2:\n",
    "        return S\n",
    "    S1=Linked_queue()\n",
    "    S2=Linked_queue()\n",
    "    while len(S1)<n//2:\n",
    "        S1.enqueue(S.dequeue())\n",
    "    while not S.is_empty():\n",
    "        S2.enqueue(S.dequeue())\n",
    "    merge_Sort(S1)\n",
    "    merge_Sort(S2)\n",
    "    S=merge (S1,S2,S)\n",
    "\n",
    "    \n",
    "    \n",
    "    \n",
    "            \n",
    "        "
   ]
  },
  {
   "cell_type": "code",
   "execution_count": 207,
   "metadata": {},
   "outputs": [],
   "source": [
    "S=Linked_queue()"
   ]
  },
  {
   "cell_type": "code",
   "execution_count": 208,
   "metadata": {},
   "outputs": [],
   "source": [
    "S.enqueue(20)\n"
   ]
  },
  {
   "cell_type": "code",
   "execution_count": 209,
   "metadata": {},
   "outputs": [
    {
     "data": {
      "text/plain": [
       "2"
      ]
     },
     "execution_count": 209,
     "metadata": {},
     "output_type": "execute_result"
    }
   ],
   "source": [
    "S.enqueue(10)\n",
    "S.__len__()"
   ]
  },
  {
   "cell_type": "code",
   "execution_count": 210,
   "metadata": {},
   "outputs": [],
   "source": [
    "S.enqueue(30)"
   ]
  },
  {
   "cell_type": "code",
   "execution_count": 211,
   "metadata": {},
   "outputs": [],
   "source": [
    "S.enqueue(50)"
   ]
  },
  {
   "cell_type": "code",
   "execution_count": 212,
   "metadata": {},
   "outputs": [],
   "source": [
    "S.enqueue(40)"
   ]
  },
  {
   "cell_type": "code",
   "execution_count": 213,
   "metadata": {},
   "outputs": [],
   "source": [
    "S.enqueue(80)"
   ]
  },
  {
   "cell_type": "code",
   "execution_count": 214,
   "metadata": {},
   "outputs": [
    {
     "data": {
      "text/plain": [
       "7"
      ]
     },
     "execution_count": 214,
     "metadata": {},
     "output_type": "execute_result"
    }
   ],
   "source": [
    "S.enqueue(60)\n",
    "S.__len__()"
   ]
  },
  {
   "cell_type": "code",
   "execution_count": 215,
   "metadata": {},
   "outputs": [],
   "source": [
    "merge_Sort(S)"
   ]
  },
  {
   "cell_type": "markdown",
   "metadata": {},
   "source": [
    "## Selection Sort"
   ]
  },
  {
   "cell_type": "code",
   "execution_count": 146,
   "metadata": {},
   "outputs": [],
   "source": [
    "def selection_sort(A):\n",
    "    for i in range(len(A)):\n",
    "        minindex=i\n",
    "        for j in range(i+1,len(A)):\n",
    "            if A[minindex]>A[j]:\n",
    "                minindex=j\n",
    "        A[i],A[minindex]=A[minindex],A[i]\n",
    "    print(\"Sorted array\")\n",
    "    for i in range(len(A)):\n",
    "            print(A[i], end=' ')"
   ]
  },
  {
   "cell_type": "code",
   "execution_count": 133,
   "metadata": {},
   "outputs": [],
   "source": [
    "A=[64,25,12,22,17]"
   ]
  },
  {
   "cell_type": "code",
   "execution_count": 134,
   "metadata": {},
   "outputs": [
    {
     "name": "stdout",
     "output_type": "stream",
     "text": [
      "Sorted array\n",
      "12 17 22 25 64 "
     ]
    }
   ],
   "source": [
    "selection_sort(A)"
   ]
  },
  {
   "cell_type": "markdown",
   "metadata": {},
   "source": [
    "## Insertion Sort"
   ]
  },
  {
   "cell_type": "code",
   "execution_count": 145,
   "metadata": {},
   "outputs": [],
   "source": [
    "def insertion_Sort(A):\n",
    "    for i in range(1,len(A)):\n",
    "        key=A[i]\n",
    "        j=i-1\n",
    "        while j>=0 and key<A[j]:\n",
    "            A[j+1]=A[j]\n",
    "            j-=1\n",
    "        A[j+1]=key\n",
    "    print(\"Sorted array\")\n",
    "    for i in range(len(A)):\n",
    "        print(A[i], end=' ')\n",
    "        "
   ]
  },
  {
   "cell_type": "code",
   "execution_count": 146,
   "metadata": {},
   "outputs": [
    {
     "name": "stdout",
     "output_type": "stream",
     "text": [
      "Sorted array\n",
      "12 17 22 25 64 "
     ]
    }
   ],
   "source": [
    "insertion_Sort(A)"
   ]
  },
  {
   "cell_type": "markdown",
   "metadata": {},
   "source": [
    "## Quick sort"
   ]
  },
  {
   "cell_type": "code",
   "execution_count": 15,
   "metadata": {},
   "outputs": [],
   "source": [
    "def partition(A,p,r):\n",
    "    x=A[r]\n",
    "    i=p-1\n",
    "    for j in range(p,r):\n",
    "        if A[j]<=x:\n",
    "            i=i+1\n",
    "            \n",
    "          \n",
    "            A[i],A[j]=A[j],A[i]\n",
    "    A[i+1],A[r]=A[r],A[i+1]\n",
    "    \n",
    "    return i+1\n",
    "\n",
    "        \n",
    "\n",
    "\n",
    "\n",
    "def QuickSort(A,p,r):\n",
    "    if p<r:\n",
    "        q=partition(A,p,r)\n",
    "        QuickSort(A,p,q-1)\n",
    "        QuickSort(A,q+1,r)\n",
    "\n",
    "        \n",
    "        "
   ]
  },
  {
   "cell_type": "code",
   "execution_count": 16,
   "metadata": {},
   "outputs": [],
   "source": [
    "arr=[85,24,63,45,17,31,96,50]\n",
    "QuickSort(arr,0,len(arr)-1)"
   ]
  },
  {
   "cell_type": "code",
   "execution_count": 17,
   "metadata": {},
   "outputs": [
    {
     "data": {
      "text/plain": [
       "[17, 24, 31, 45, 50, 63, 85, 96]"
      ]
     },
     "execution_count": 17,
     "metadata": {},
     "output_type": "execute_result"
    }
   ],
   "source": [
    "arr"
   ]
  },
  {
   "cell_type": "markdown",
   "metadata": {},
   "source": [
    "### quick sort linked list implementation"
   ]
  },
  {
   "cell_type": "code",
   "execution_count": 189,
   "metadata": {},
   "outputs": [],
   "source": [
    "def quick_sort(S):\n",
    "    n=len(S)\n",
    "    if n<2:\n",
    "        return\n",
    "    p=S.last()\n",
    "    L=Linked_queue()\n",
    "    E=Linked_queue()\n",
    "    G=Linked_queue()\n",
    "    while not S.is_empty():\n",
    "        if S.first()<p:\n",
    "            L.enqueue(S.dequeue())\n",
    "        elif S.first()>p:\n",
    "            G.enqueue(S.dequeue())\n",
    "        else:\n",
    "            E.enqueue(S.dequeue())\n",
    "    quick_sort(L)\n",
    "    quick_sort(G)\n",
    "    \n",
    "    \n",
    "    while not L.is_empty():\n",
    "        S.enqueue(L.dequeue())\n",
    "    while not E.is_empty():\n",
    "        S.enqueue(E.dequeue())\n",
    "    while not G.is_empty():\n",
    "        S.enqueue(G.dequeue())\n",
    "        "
   ]
  },
  {
   "cell_type": "code",
   "execution_count": 190,
   "metadata": {},
   "outputs": [],
   "source": [
    "S=Linked_queue()\n",
    "S.enqueue(35)"
   ]
  },
  {
   "cell_type": "code",
   "execution_count": 191,
   "metadata": {},
   "outputs": [],
   "source": [
    "S.enqueue(40)"
   ]
  },
  {
   "cell_type": "code",
   "execution_count": 192,
   "metadata": {},
   "outputs": [],
   "source": [
    "S.enqueue(20)"
   ]
  },
  {
   "cell_type": "code",
   "execution_count": 193,
   "metadata": {},
   "outputs": [],
   "source": [
    "S.enqueue(37)"
   ]
  },
  {
   "cell_type": "code",
   "execution_count": 194,
   "metadata": {},
   "outputs": [],
   "source": [
    "S.enqueue(20)\n"
   ]
  },
  {
   "cell_type": "code",
   "execution_count": 195,
   "metadata": {},
   "outputs": [],
   "source": [
    "S.enqueue(70)"
   ]
  },
  {
   "cell_type": "code",
   "execution_count": 196,
   "metadata": {},
   "outputs": [],
   "source": [
    "quick_sort(S)"
   ]
  },
  {
   "cell_type": "code",
   "execution_count": 197,
   "metadata": {},
   "outputs": [
    {
     "name": "stdout",
     "output_type": "stream",
     "text": [
      "20 20 35 37 40 70 "
     ]
    }
   ],
   "source": [
    "S.display()"
   ]
  },
  {
   "cell_type": "markdown",
   "metadata": {},
   "source": [
    "## Counting Sort"
   ]
  },
  {
   "cell_type": "code",
   "execution_count": 22,
   "metadata": {},
   "outputs": [],
   "source": [
    "def countingsort(arr):\n",
    "    output=[0 for i in range(256)]\n",
    "    count=[0 for i in range(256)]\n",
    "    \n",
    "    for i in arr:\n",
    "        count[ord(i)]+=1\n",
    "    for i in range(256):\n",
    "        count[i]+=count[i-1]\n",
    "    for i in range(len(arr)):\n",
    "        output[count[ord(arr[i])]-1] = arr[i] \n",
    "        count[ord(arr[i])] -= 1\n",
    "    for i in range(len(arr)):\n",
    "        print(output[i], end='')\n",
    "  \n",
    "    \n",
    "    "
   ]
  },
  {
   "cell_type": "code",
   "execution_count": 23,
   "metadata": {},
   "outputs": [],
   "source": [
    "arr=\"geeksforgeeks\""
   ]
  },
  {
   "cell_type": "code",
   "execution_count": 24,
   "metadata": {},
   "outputs": [
    {
     "name": "stdout",
     "output_type": "stream",
     "text": [
      "eeeefggkkorss"
     ]
    }
   ],
   "source": [
    "countingsort(arr)"
   ]
  },
  {
   "cell_type": "markdown",
   "metadata": {},
   "source": [
    "## Radix Sort"
   ]
  },
  {
   "cell_type": "code",
   "execution_count": 31,
   "metadata": {},
   "outputs": [],
   "source": [
    "def radixsort(arr):\n",
    "    max1=max(arr) # to know number of digits \n",
    "    exp=1\n",
    "    while max1/exp>0:\n",
    "        countsort(arr,exp) # exp represent ith digit of a no\n",
    "        exp=exp*10"
   ]
  },
  {
   "cell_type": "code",
   "execution_count": 44,
   "metadata": {},
   "outputs": [],
   "source": [
    "def countsort(arr,exp):\n",
    "    n=len(arr)\n",
    "    output=[0]*n\n",
    "    count=[0]*10\n",
    "    for i in range(0,n): #Store count of occurrences in count\n",
    "        index=arr[i]//exp\n",
    "        count[(index%10)]+=1\n",
    "    for i in range(1,10): \n",
    "        count[i] += count[i-1]     \n",
    "    # Output array\n",
    "    i= n-1    # started from last index in order to have stability\n",
    "    while i>=0:\n",
    "        index=arr[i]//exp\n",
    "        output[count[(index%10)]-1]=arr[i]\n",
    "        count[index%10]-=1\n",
    "        i-=1\n",
    "         \n",
    "    i = 0          # cpoying the data of output array  into original array to retain changes\n",
    "    for i in range(0,len(arr)): \n",
    "        arr[i] = output[i] "
   ]
  },
  {
   "cell_type": "code",
   "execution_count": 45,
   "metadata": {},
   "outputs": [],
   "source": [
    "arr=[170, 171, 200, 2, 30 ,45]"
   ]
  },
  {
   "cell_type": "code",
   "execution_count": 46,
   "metadata": {},
   "outputs": [],
   "source": [
    "radixsort(arr)"
   ]
  },
  {
   "cell_type": "code",
   "execution_count": 47,
   "metadata": {},
   "outputs": [
    {
     "data": {
      "text/plain": [
       "[2, 30, 45, 170, 171, 200]"
      ]
     },
     "execution_count": 47,
     "metadata": {},
     "output_type": "execute_result"
    }
   ],
   "source": [
    "arr"
   ]
  },
  {
   "cell_type": "code",
   "execution_count": null,
   "metadata": {},
   "outputs": [],
   "source": []
  }
 ],
 "metadata": {
  "kernelspec": {
   "display_name": "Python 3",
   "language": "python",
   "name": "python3"
  },
  "language_info": {
   "codemirror_mode": {
    "name": "ipython",
    "version": 3
   },
   "file_extension": ".py",
   "mimetype": "text/x-python",
   "name": "python",
   "nbconvert_exporter": "python",
   "pygments_lexer": "ipython3",
   "version": "3.6.7"
  }
 },
 "nbformat": 4,
 "nbformat_minor": 2
}
