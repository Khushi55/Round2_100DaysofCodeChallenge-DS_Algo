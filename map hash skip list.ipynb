{
 "cells": [
  {
   "cell_type": "markdown",
   "metadata": {},
   "source": [
    "## DICTIONARIES AND MAPS"
   ]
  },
  {
   "cell_type": "code",
   "execution_count": 1,
   "metadata": {},
   "outputs": [],
   "source": [
    "dic={1:'a',2:'b',3:'c'}\n"
   ]
  },
  {
   "cell_type": "code",
   "execution_count": 11,
   "metadata": {},
   "outputs": [],
   "source": [
    "dic.setdefault(5)"
   ]
  },
  {
   "cell_type": "code",
   "execution_count": 12,
   "metadata": {},
   "outputs": [
    {
     "data": {
      "text/plain": [
       "(5, None)"
      ]
     },
     "execution_count": 12,
     "metadata": {},
     "output_type": "execute_result"
    }
   ],
   "source": [
    "dic.popitem()\n"
   ]
  },
  {
   "cell_type": "code",
   "execution_count": 13,
   "metadata": {},
   "outputs": [
    {
     "data": {
      "text/plain": [
       "{1: 'a', 2: 'b', 3: 'c'}"
      ]
     },
     "execution_count": 13,
     "metadata": {},
     "output_type": "execute_result"
    }
   ],
   "source": [
    "dic"
   ]
  },
  {
   "cell_type": "code",
   "execution_count": 14,
   "metadata": {},
   "outputs": [
    {
     "data": {
      "text/plain": [
       "(3, 'c')"
      ]
     },
     "execution_count": 14,
     "metadata": {},
     "output_type": "execute_result"
    }
   ],
   "source": [
    "dic.popitem()"
   ]
  },
  {
   "cell_type": "markdown",
   "metadata": {},
   "source": [
    "### MapBase Class "
   ]
  },
  {
   "cell_type": "code",
   "execution_count": 13,
   "metadata": {},
   "outputs": [],
   "source": [
    "class MapBase(collections.MutableMapping):\n",
    "    \n",
    "    class _item:\n",
    "        \n",
    "        __slots = '_key' , '_value'\n",
    "        \n",
    "        def __init__(self,k,v):\n",
    "            self._key=k\n",
    "            self._value=v\n",
    "        \n",
    "        \n",
    "        def __eq__(self,other):\n",
    "            return self._key==other._key\n",
    "        \n",
    "        def __ne__(self):\n",
    "            return not (self==other)\n",
    "        \n",
    "        def __it__(self,other):\n",
    "            return self._key < other._key"
   ]
  },
  {
   "cell_type": "markdown",
   "metadata": {},
   "source": [
    "## Unsorted Table Map"
   ]
  },
  {
   "cell_type": "code",
   "execution_count": 12,
   "metadata": {},
   "outputs": [],
   "source": [
    "import collections"
   ]
  },
  {
   "cell_type": "code",
   "execution_count": 14,
   "metadata": {},
   "outputs": [],
   "source": [
    "class UnsortedTableMap(MapBase):\n",
    "    def __init__(self):\n",
    "        self.table=[]\n",
    "        \n",
    "    def __getitem__(self,k):\n",
    "        for item in self.table:\n",
    "            if k==item._key:\n",
    "                return item._value\n",
    "        raise KeyError( \"Key Error:\" + repr(k))\n",
    "            \n",
    "    def __setitem__(self,k,v):\n",
    "        for item in self.table:\n",
    "            if k==item._key:\n",
    "                item._value=v\n",
    "                return\n",
    "        self.table.append(self._item(k,v))  \n",
    "     \n",
    "    def __delitem__(self,k):\n",
    "        for j in range(len(self.table)):\n",
    "            if k==self.table[j]._key:\n",
    "                self.table.pop(j)\n",
    "        raise KeyError(\"key Error:\" +repr(k))\n",
    "        \n",
    "    def __len__(self):\n",
    "        return(len(self.table))\n",
    "    \n",
    "    def __iter__(self):\n",
    "        for item in self.table:\n",
    "             yield item._key\n",
    "                \n",
    "        \n",
    "                \n",
    "            "
   ]
  },
  {
   "cell_type": "code",
   "execution_count": 28,
   "metadata": {},
   "outputs": [],
   "source": [
    "H=UnsortedTableMap()"
   ]
  },
  {
   "cell_type": "code",
   "execution_count": 31,
   "metadata": {},
   "outputs": [],
   "source": [
    "H.__setitem__(4,'D')"
   ]
  },
  {
   "cell_type": "code",
   "execution_count": 33,
   "metadata": {},
   "outputs": [
    {
     "data": {
      "text/plain": [
       "'D'"
      ]
     },
     "execution_count": 33,
     "metadata": {},
     "output_type": "execute_result"
    }
   ],
   "source": [
    "H.__getitem__(4)"
   ]
  },
  {
   "cell_type": "code",
   "execution_count": 35,
   "metadata": {},
   "outputs": [],
   "source": [
    "H.__setitem__(3,'C')"
   ]
  },
  {
   "cell_type": "code",
   "execution_count": 39,
   "metadata": {},
   "outputs": [
    {
     "data": {
      "text/plain": [
       "2"
      ]
     },
     "execution_count": 39,
     "metadata": {},
     "output_type": "execute_result"
    }
   ],
   "source": [
    "H.__len__()"
   ]
  },
  {
   "cell_type": "code",
   "execution_count": 47,
   "metadata": {},
   "outputs": [
    {
     "data": {
      "text/plain": [
       "<generator object UnsortedTableMap.__iter__ at 0x7f40700d4728>"
      ]
     },
     "execution_count": 47,
     "metadata": {},
     "output_type": "execute_result"
    }
   ],
   "source": [
    "H.__iter__()"
   ]
  },
  {
   "cell_type": "code",
   "execution_count": 1,
   "metadata": {},
   "outputs": [
    {
     "data": {
      "text/plain": [
       "2"
      ]
     },
     "execution_count": 1,
     "metadata": {},
     "output_type": "execute_result"
    }
   ],
   "source": [
    "hash(2)"
   ]
  },
  {
   "cell_type": "code",
   "execution_count": 2,
   "metadata": {},
   "outputs": [
    {
     "data": {
      "text/plain": [
       "2003764205207330320"
      ]
     },
     "execution_count": 2,
     "metadata": {},
     "output_type": "execute_result"
    }
   ],
   "source": [
    "hash(1000000000000000000000000)"
   ]
  },
  {
   "cell_type": "code",
   "execution_count": 3,
   "metadata": {},
   "outputs": [
    {
     "data": {
      "text/plain": [
       "<function hash>"
      ]
     },
     "execution_count": 3,
     "metadata": {},
     "output_type": "execute_result"
    }
   ],
   "source": []
  },
  {
   "cell_type": "markdown",
   "metadata": {},
   "source": [
    "## Hash Implementation"
   ]
  },
  {
   "cell_type": "code",
   "execution_count": 28,
   "metadata": {},
   "outputs": [],
   "source": [
    "import random"
   ]
  },
  {
   "cell_type": "code",
   "execution_count": 65,
   "metadata": {},
   "outputs": [],
   "source": [
    "class HashMapBase(MapBase):\n",
    "    def __init__(self, cap=11, p=109345121):\n",
    "        self._table=cap*[None]\n",
    "        self._n=0\n",
    "        self._prime=p\n",
    "        self._scale=1+random.randrange(p-1)   #a>0\n",
    "        self._shift=random.randrange(p)             # b\n",
    "        \n",
    "    def _hash_function(self,k):\n",
    "        return((hash(k)*self._scale+self._shift)%self._prime %len(self._table) )   # MAD compression function\n",
    "              \n",
    "    def __len__(self):\n",
    "               return self._n\n",
    "        \n",
    "    def __getitem__(self,k):\n",
    "               j=self._hash_function(k)\n",
    "               return self._bucket_getitem(j,k)\n",
    "    \n",
    "    def __setitem__(self,k,v):\n",
    "        j=self._hash_function(k)\n",
    "        self._bucket_setitem(j,k,v)# maintains n\n",
    "        if self._n>len(self._table)//2:\n",
    "            self._resize(2*len(self._table)-1)\n",
    "    \n",
    "    def __delitem__(self,k):\n",
    "        j=self._hash_function(k)\n",
    "        self._bucket_delitem(j,k)\n",
    "        self._n-=1\n",
    "    \n",
    "    \n",
    "    def _resize(self,c):\n",
    "        old=list(self.items())\n",
    "        self._table=c*[None]\n",
    "        self._n=0\n",
    "        for (k,v) in old:\n",
    "            self[k]=v\n",
    "            \n",
    "    def __iter__(self):\n",
    "        for bucket in self._table:\n",
    "            if bucket is not None:\n",
    "                for key in bucket:\n",
    "                    yield key         \n",
    "            \n",
    "            \n",
    "        \n",
    "               \n",
    "        "
   ]
  },
  {
   "cell_type": "markdown",
   "metadata": {},
   "source": [
    "### SeprateChaining hash implementation"
   ]
  },
  {
   "cell_type": "code",
   "execution_count": 66,
   "metadata": {},
   "outputs": [],
   "source": [
    "class ChainHashMap(HashMapBase):\n",
    "    \n",
    "    def _bucket_getitem(self,j,k):\n",
    "        bucket=self._table[j]\n",
    "        if bucket is None:\n",
    "            raise KeyError( \"Key Error:\" + repr(k))\n",
    "        return bucket[k]\n",
    "    \n",
    "    def _bucket_setitem(self,j,k,v):\n",
    "        if self._table[j] is None:\n",
    "            self._table[j]=UnsortedTableMap()\n",
    "            oldsize=len(self._table[j])\n",
    "            self._table[j][k]=v\n",
    "            if len(self._table[j]>oldsize):\n",
    "                self._n+=1\n",
    "    \n",
    "    def _bucket_delitem(self,j,k):\n",
    "        if self._table[j] is None:\n",
    "            raise KeyError(\"Key Error :\" + repr(k))\n",
    "        del self.table[j][k]\n",
    "        \n",
    "    def __iter__(self):\n",
    "        for bucket in self._table:\n",
    "            if bucket is not None:\n",
    "                for key in bucket:\n",
    "                    yield key\n",
    "                    \n",
    "            \n",
    "                           "
   ]
  },
  {
   "cell_type": "code",
   "execution_count": null,
   "metadata": {},
   "outputs": [],
   "source": []
  },
  {
   "cell_type": "code",
   "execution_count": null,
   "metadata": {},
   "outputs": [],
   "source": []
  },
  {
   "cell_type": "code",
   "execution_count": null,
   "metadata": {},
   "outputs": [],
   "source": []
  }
 ],
 "metadata": {
  "kernelspec": {
   "display_name": "Python 3",
   "language": "python",
   "name": "python3"
  },
  "language_info": {
   "codemirror_mode": {
    "name": "ipython",
    "version": 3
   },
   "file_extension": ".py",
   "mimetype": "text/x-python",
   "name": "python",
   "nbconvert_exporter": "python",
   "pygments_lexer": "ipython3",
   "version": "3.6.7"
  }
 },
 "nbformat": 4,
 "nbformat_minor": 2
}
