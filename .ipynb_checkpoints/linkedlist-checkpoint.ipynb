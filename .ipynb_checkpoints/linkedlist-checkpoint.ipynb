{
 "cells": [
  {
   "cell_type": "markdown",
   "metadata": {},
   "source": [
    "# LINKED LIST"
   ]
  },
  {
   "cell_type": "markdown",
   "metadata": {},
   "source": [
    "### Implenetation of stack using linked list"
   ]
  },
  {
   "cell_type": "code",
   "execution_count": 1,
   "metadata": {},
   "outputs": [],
   "source": [
    "# considered top of stack as head of linked list"
   ]
  },
  {
   "cell_type": "code",
   "execution_count": 8,
   "metadata": {},
   "outputs": [],
   "source": [
    "class Linked_stack:\n",
    "    class Node:\n",
    "        __slot__='element,next'\n",
    "        \n",
    "        def __init__(self,element,nexte):\n",
    "            self.element=element\n",
    "            self.next=nexte\n",
    "            \n",
    "    def __init__(self):\n",
    "        self.head=None\n",
    "        self.size=0\n",
    "     \n",
    "    def __len__(self):\n",
    "        return self.size\n",
    "    \n",
    "    def is_empty(self):\n",
    "        return self.size==0\n",
    "    \n",
    "    \n",
    "    def push(self, val):\n",
    "        new= self.Node(val, self.head)\n",
    "        self.head=new\n",
    "        self.size+=1\n",
    "        \n",
    "    def top(self):\n",
    "        if self.is_empty():\n",
    "            print(\"stack is empty\")\n",
    "            return\n",
    "        return self.head.element\n",
    "    \n",
    "    def pop(self):\n",
    "        if self.is_empty():\n",
    "            print(\"stack is empty\")\n",
    "            return\n",
    "        ans=self.head.element\n",
    "        self.head=self.head.next\n",
    "        self.size-=1\n",
    "        return ans\n",
    "    \n",
    "    \n",
    "        \n",
    "        "
   ]
  },
  {
   "cell_type": "code",
   "execution_count": 9,
   "metadata": {},
   "outputs": [],
   "source": [
    "S=Linked_stack()"
   ]
  },
  {
   "cell_type": "code",
   "execution_count": 10,
   "metadata": {},
   "outputs": [
    {
     "name": "stdout",
     "output_type": "stream",
     "text": [
      "stack is empty\n"
     ]
    }
   ],
   "source": [
    "S.top()"
   ]
  },
  {
   "cell_type": "code",
   "execution_count": 11,
   "metadata": {},
   "outputs": [],
   "source": [
    "S.push(10)"
   ]
  },
  {
   "cell_type": "code",
   "execution_count": 12,
   "metadata": {},
   "outputs": [
    {
     "data": {
      "text/plain": [
       "10"
      ]
     },
     "execution_count": 12,
     "metadata": {},
     "output_type": "execute_result"
    }
   ],
   "source": [
    "S.top()"
   ]
  },
  {
   "cell_type": "code",
   "execution_count": 13,
   "metadata": {},
   "outputs": [],
   "source": [
    "S.push(20)"
   ]
  },
  {
   "cell_type": "code",
   "execution_count": 14,
   "metadata": {},
   "outputs": [
    {
     "data": {
      "text/plain": [
       "20"
      ]
     },
     "execution_count": 14,
     "metadata": {},
     "output_type": "execute_result"
    }
   ],
   "source": [
    "S.top()"
   ]
  },
  {
   "cell_type": "code",
   "execution_count": 15,
   "metadata": {},
   "outputs": [
    {
     "data": {
      "text/plain": [
       "False"
      ]
     },
     "execution_count": 15,
     "metadata": {},
     "output_type": "execute_result"
    }
   ],
   "source": [
    "S.is_empty()"
   ]
  },
  {
   "cell_type": "code",
   "execution_count": 16,
   "metadata": {},
   "outputs": [
    {
     "data": {
      "text/plain": [
       "2"
      ]
     },
     "execution_count": 16,
     "metadata": {},
     "output_type": "execute_result"
    }
   ],
   "source": [
    "S.size"
   ]
  },
  {
   "cell_type": "code",
   "execution_count": 17,
   "metadata": {},
   "outputs": [
    {
     "data": {
      "text/plain": [
       "<__main__.Linked_stack.Node at 0x7f057cbcd4a8>"
      ]
     },
     "execution_count": 17,
     "metadata": {},
     "output_type": "execute_result"
    }
   ],
   "source": [
    "S.head"
   ]
  },
  {
   "cell_type": "code",
   "execution_count": 18,
   "metadata": {},
   "outputs": [
    {
     "data": {
      "text/plain": [
       "20"
      ]
     },
     "execution_count": 18,
     "metadata": {},
     "output_type": "execute_result"
    }
   ],
   "source": [
    "S.pop()"
   ]
  },
  {
   "cell_type": "code",
   "execution_count": 19,
   "metadata": {},
   "outputs": [
    {
     "data": {
      "text/plain": [
       "10"
      ]
     },
     "execution_count": 19,
     "metadata": {},
     "output_type": "execute_result"
    }
   ],
   "source": [
    "S.pop()"
   ]
  },
  {
   "cell_type": "code",
   "execution_count": 20,
   "metadata": {},
   "outputs": [
    {
     "name": "stdout",
     "output_type": "stream",
     "text": [
      "stack is empty\n"
     ]
    }
   ],
   "source": [
    "S.pop()"
   ]
  },
  {
   "cell_type": "markdown",
   "metadata": {},
   "source": [
    "### implementation of queue using linked list"
   ]
  },
  {
   "cell_type": "markdown",
   "metadata": {},
   "source": [
    "###### head- front deletion,   tail-read insertion"
   ]
  },
  {
   "cell_type": "code",
   "execution_count": 1,
   "metadata": {},
   "outputs": [],
   "source": [
    "class Linked_queue:\n",
    "    class Node:\n",
    "        __slot__='element,next'\n",
    "        \n",
    "        def __init__(self,element,nexte):\n",
    "            self.element=element\n",
    "            self.next=nexte\n",
    "            \n",
    "    def __init__(self):\n",
    "        self.head=None\n",
    "        self.tail=None\n",
    "        self.size=0\n",
    "        \n",
    "        \n",
    "    def __len__(self):\n",
    "        return self.size\n",
    "    \n",
    "    def is_empty(self):\n",
    "        return self.size==0\n",
    "    \n",
    "    def first(self):\n",
    "        if self.is_empty():\n",
    "            print(\"queue is empty\")\n",
    "            return\n",
    "        return self.head.element\n",
    "    \n",
    "    def last(self):\n",
    "        if self.is_empty():\n",
    "            print(\"queue is empty\")\n",
    "            return\n",
    "        return self.tail.element\n",
    "    \n",
    "    \n",
    "    def dequeue(self):\n",
    "        if self.is_empty():\n",
    "            print(\"queue is empty\")\n",
    "            return\n",
    "        answer=self.head.element\n",
    "        self.head=self.head.next\n",
    "        self.size-=1\n",
    "        return answer\n",
    "    \n",
    "    def enqueue(self,val):\n",
    "        new=self.Node(val,None)\n",
    "        if self.is_empty():\n",
    "            self.head=new\n",
    "        else:\n",
    "            self.tail.next=new\n",
    "        self.tail=new    \n",
    "        self.size+=1\n",
    "        \n",
    "    def display(self):\n",
    "        start=self.head\n",
    "        while start!=tail:\n",
    "            print(start.element, end=' ')\n",
    "            start=start.next\n",
    "        \n",
    "        "
   ]
  },
  {
   "cell_type": "code",
   "execution_count": 13,
   "metadata": {},
   "outputs": [],
   "source": [
    "S=Linked_queue()"
   ]
  },
  {
   "cell_type": "code",
   "execution_count": 14,
   "metadata": {},
   "outputs": [
    {
     "name": "stdout",
     "output_type": "stream",
     "text": [
      "queue is empty\n"
     ]
    }
   ],
   "source": [
    "S.first()"
   ]
  },
  {
   "cell_type": "code",
   "execution_count": 15,
   "metadata": {},
   "outputs": [],
   "source": [
    "S.head"
   ]
  },
  {
   "cell_type": "code",
   "execution_count": 16,
   "metadata": {},
   "outputs": [
    {
     "name": "stdout",
     "output_type": "stream",
     "text": [
      "queue is empty\n"
     ]
    }
   ],
   "source": [
    "S.dequeue()"
   ]
  },
  {
   "cell_type": "code",
   "execution_count": 17,
   "metadata": {},
   "outputs": [],
   "source": [
    "S.enqueue(10)"
   ]
  },
  {
   "cell_type": "code",
   "execution_count": 18,
   "metadata": {},
   "outputs": [],
   "source": [
    "S.enqueue(20)"
   ]
  },
  {
   "cell_type": "code",
   "execution_count": 19,
   "metadata": {},
   "outputs": [
    {
     "name": "stdout",
     "output_type": "stream",
     "text": [
      "10 20 "
     ]
    }
   ],
   "source": [
    "S.display()"
   ]
  },
  {
   "cell_type": "markdown",
   "metadata": {},
   "source": [
    "##### Circular implementation"
   ]
  },
  {
   "cell_type": "code",
   "execution_count": 13,
   "metadata": {},
   "outputs": [],
   "source": [
    "class CircularQueue:\n",
    "    class Node:\n",
    "        __slot__='element,next'\n",
    "        \n",
    "        def __init__(self,element,nexte):\n",
    "            self.element=element\n",
    "            self.next=nexte\n",
    "    \n",
    "    def __init__(self):\n",
    "        self.tail=None\n",
    "        self.size=0\n",
    "      \n",
    "        \n",
    "    def __len__(self):\n",
    "        return self.size\n",
    "    \n",
    "    def is_empty(self):\n",
    "        return self.size==0\n",
    "    \n",
    "    def first(self):\n",
    "        if self.is_empty():\n",
    "            print(\"queue is empty\")\n",
    "            return\n",
    "        head=self.tail.next\n",
    "        return head.element\n",
    "    \n",
    "        \n",
    "    \n",
    "    def dequeue(self):\n",
    "        if self.is_empty():\n",
    "            print(\"Queue is Empty\")\n",
    "            return\n",
    "        head=self.tail.next\n",
    "        if self.size==1:\n",
    "            self.tail=None\n",
    "        else:\n",
    "            self.tail.next=head.next\n",
    "        self.size-=1\n",
    "        return head.element\n",
    "    \n",
    "    def enqueue(self,val):\n",
    "        new=self.Node(val,None)\n",
    "        if self.is_empty():\n",
    "            new.next=new\n",
    "        else:\n",
    "            new.next=self.tail.next\n",
    "            self.tail.next=new\n",
    "        self.tail=new\n",
    "        self.size+=1\n",
    "        \n",
    "    def rotate(self):\n",
    "        if self.size>0:\n",
    "            self.tail=self.tail.next\n",
    "            \n",
    "        \n",
    "        \n",
    "        \n",
    "    "
   ]
  },
  {
   "cell_type": "code",
   "execution_count": 14,
   "metadata": {},
   "outputs": [],
   "source": [
    "S=CircularQueue()"
   ]
  },
  {
   "cell_type": "code",
   "execution_count": 15,
   "metadata": {},
   "outputs": [],
   "source": [
    "S.enqueue(10)"
   ]
  },
  {
   "cell_type": "code",
   "execution_count": 16,
   "metadata": {},
   "outputs": [],
   "source": [
    "S.enqueue(20)"
   ]
  },
  {
   "cell_type": "code",
   "execution_count": 17,
   "metadata": {},
   "outputs": [],
   "source": [
    "S.enqueue(30)"
   ]
  },
  {
   "cell_type": "code",
   "execution_count": 18,
   "metadata": {},
   "outputs": [
    {
     "data": {
      "text/plain": [
       "10"
      ]
     },
     "execution_count": 18,
     "metadata": {},
     "output_type": "execute_result"
    }
   ],
   "source": [
    "S.first()"
   ]
  },
  {
   "cell_type": "code",
   "execution_count": 19,
   "metadata": {},
   "outputs": [
    {
     "data": {
      "text/plain": [
       "30"
      ]
     },
     "execution_count": 19,
     "metadata": {},
     "output_type": "execute_result"
    }
   ],
   "source": [
    "S.tail.element\n"
   ]
  },
  {
   "cell_type": "code",
   "execution_count": 25,
   "metadata": {},
   "outputs": [],
   "source": [
    "S.rotate()"
   ]
  },
  {
   "cell_type": "code",
   "execution_count": 11,
   "metadata": {},
   "outputs": [
    {
     "data": {
      "text/plain": [
       "20"
      ]
     },
     "execution_count": 11,
     "metadata": {},
     "output_type": "execute_result"
    }
   ],
   "source": [
    "S.tail.element"
   ]
  },
  {
   "cell_type": "markdown",
   "metadata": {},
   "source": [
    "###  Doubly Linked List"
   ]
  },
  {
   "cell_type": "code",
   "execution_count": 65,
   "metadata": {},
   "outputs": [],
   "source": [
    "class DoublyLinkedList:\n",
    "    class Node:\n",
    "        def __init__(self, element):\n",
    "            self.element=element\n",
    "            self.prev=None\n",
    "            self.next=None\n",
    "            \n",
    "    def __init__(self):\n",
    "        self.head=None\n",
    "        self.tail=None\n",
    "        self.size=0\n",
    "    \n",
    "    def __len__(self):\n",
    "        return self.size\n",
    "    \n",
    "    def is_empty(self):\n",
    "        return self.size==0\n",
    "    \n",
    "    def get_Node(self,index):\n",
    "        current=self.head\n",
    "        for i in range(index):\n",
    "            if current is None:\n",
    "                return None\n",
    "            \n",
    "            current=current.next\n",
    "        return current\n",
    "    \n",
    "    def insert_at_beg(self,val):\n",
    "        new=self.Node(val)\n",
    "        if self.is_empty():\n",
    "            self.head=new\n",
    "            self.tail=new\n",
    "            \n",
    "        else:\n",
    "            new.next=self.head\n",
    "            self.head.prev=new\n",
    "            self.head=new\n",
    "            \n",
    "        self.size+=1    \n",
    "    \n",
    "    \n",
    "    def insert_at_last(self,val):\n",
    "        new=self.Node(val)\n",
    "        if self.is_empty():\n",
    "            self.tail=new\n",
    "            self.head=new\n",
    "            \n",
    "        else:\n",
    "            new.prev=self.tail\n",
    "            self.tail.next=new\n",
    "            self.tail=new\n",
    "            \n",
    "        self.size+=1    \n",
    "            \n",
    "    def insert_after(self,index, val):\n",
    "        new=self.Node(val)\n",
    "        prev_node= self.get_Node(index)\n",
    "        new.next=prev_node.next\n",
    "        new.prev=prev_node\n",
    "        prev_node.next=new\n",
    "        if new.next is not None:\n",
    "            new.next.prev=new\n",
    "        self.size+=1   \n",
    "            \n",
    "    def delete_node(self,index):\n",
    "        node=self.get_Node(index)\n",
    "        \n",
    "        \n",
    "        if node.prev is None:\n",
    "            self.head=node.next\n",
    "            \n",
    "        else:\n",
    "            node.prev.next=node.next\n",
    "            \n",
    "        if node.next is None:\n",
    "            self.tail=node.prev\n",
    "            \n",
    "        else:\n",
    "            node.next.prev=node.prev\n",
    "          \n",
    "        self.size-=1\n",
    "            \n",
    "    def display(self):\n",
    "            current=self.head\n",
    "            \n",
    "            for i in range(self.size):\n",
    "                \n",
    "                print(current.element, end=' ')\n",
    "                current=current.next\n",
    "            \n",
    "        \n",
    "   "
   ]
  },
  {
   "cell_type": "code",
   "execution_count": 66,
   "metadata": {},
   "outputs": [],
   "source": [
    "S=DoublyLinkedList()"
   ]
  },
  {
   "cell_type": "code",
   "execution_count": 67,
   "metadata": {},
   "outputs": [],
   "source": [
    "S.insert_at_beg(10)"
   ]
  },
  {
   "cell_type": "code",
   "execution_count": 68,
   "metadata": {},
   "outputs": [],
   "source": [
    "S.insert_at_last(30)"
   ]
  },
  {
   "cell_type": "code",
   "execution_count": 69,
   "metadata": {},
   "outputs": [],
   "source": [
    "S.insert_after(0,20) # here index beg from 0"
   ]
  },
  {
   "cell_type": "code",
   "execution_count": 70,
   "metadata": {},
   "outputs": [
    {
     "name": "stdout",
     "output_type": "stream",
     "text": [
      "10 20 30 "
     ]
    }
   ],
   "source": [
    "S.display()"
   ]
  },
  {
   "cell_type": "code",
   "execution_count": 71,
   "metadata": {},
   "outputs": [
    {
     "data": {
      "text/plain": [
       "20"
      ]
     },
     "execution_count": 71,
     "metadata": {},
     "output_type": "execute_result"
    }
   ],
   "source": [
    "S.get_Node(1).element"
   ]
  },
  {
   "cell_type": "code",
   "execution_count": 72,
   "metadata": {},
   "outputs": [
    {
     "name": "stdout",
     "output_type": "stream",
     "text": [
      "10 20 30 "
     ]
    }
   ],
   "source": [
    "S.display()"
   ]
  },
  {
   "cell_type": "code",
   "execution_count": 73,
   "metadata": {},
   "outputs": [
    {
     "data": {
      "text/plain": [
       "30"
      ]
     },
     "execution_count": 73,
     "metadata": {},
     "output_type": "execute_result"
    }
   ],
   "source": [
    "S.get_Node(2).element"
   ]
  },
  {
   "cell_type": "code",
   "execution_count": 74,
   "metadata": {},
   "outputs": [
    {
     "name": "stdout",
     "output_type": "stream",
     "text": [
      "10 20 30 "
     ]
    }
   ],
   "source": [
    "S.display()"
   ]
  },
  {
   "cell_type": "code",
   "execution_count": 75,
   "metadata": {},
   "outputs": [],
   "source": [
    "S.delete_node(1)"
   ]
  },
  {
   "cell_type": "code",
   "execution_count": 76,
   "metadata": {},
   "outputs": [
    {
     "name": "stdout",
     "output_type": "stream",
     "text": [
      "10 30 "
     ]
    }
   ],
   "source": [
    "S.display()"
   ]
  },
  {
   "cell_type": "code",
   "execution_count": 1,
   "metadata": {},
   "outputs": [
    {
     "data": {
      "text/plain": [
       "True"
      ]
     },
     "execution_count": 1,
     "metadata": {},
     "output_type": "execute_result"
    }
   ],
   "source": [
    "isinstance(10,int)"
   ]
  },
  {
   "cell_type": "markdown",
   "metadata": {},
   "source": []
  },
  {
   "cell_type": "code",
   "execution_count": null,
   "metadata": {},
   "outputs": [],
   "source": []
  }
 ],
 "metadata": {
  "kernelspec": {
   "display_name": "Python 3",
   "language": "python",
   "name": "python3"
  },
  "language_info": {
   "codemirror_mode": {
    "name": "ipython",
    "version": 3
   },
   "file_extension": ".py",
   "mimetype": "text/x-python",
   "name": "python",
   "nbconvert_exporter": "python",
   "pygments_lexer": "ipython3",
   "version": "3.6.7"
  }
 },
 "nbformat": 4,
 "nbformat_minor": 2
}
