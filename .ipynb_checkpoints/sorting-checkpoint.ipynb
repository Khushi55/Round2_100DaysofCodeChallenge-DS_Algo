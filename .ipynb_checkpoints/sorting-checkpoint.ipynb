{
 "cells": [
  {
   "cell_type": "markdown",
   "metadata": {},
   "source": [
    "# Sorting"
   ]
  },
  {
   "cell_type": "markdown",
   "metadata": {},
   "source": [
    "## Merge sort  O(nlogn)"
   ]
  },
  {
   "cell_type": "code",
   "execution_count": 39,
   "metadata": {},
   "outputs": [],
   "source": [
    "def mergesort(arr):\n",
    "    if len(arr)>1:\n",
    "        mid=len(arr)//2\n",
    "        L=arr[:mid]\n",
    "        R=arr[mid:]\n",
    "        \n",
    "        \n",
    "        mergesort(L)\n",
    "        mergesort(R)\n",
    "        i=j=k=0\n",
    "        while i<len(L) and j<len(R):\n",
    "            if L[i]<=R[j]:\n",
    "                arr[k]=L[i]\n",
    "                i+=1\n",
    "            else:\n",
    "                arr[k]=R[j]\n",
    "                j+=1\n",
    "            k+=1\n",
    "        while(i<len(L)):\n",
    "            arr[k]=L[i]\n",
    "            k+=1\n",
    "            i+=1\n",
    "        while(j<len(R)):\n",
    "            arr[k]=R[j]\n",
    "            k+=1\n",
    "            j+=1\n",
    "            \n",
    "            \n",
    "            "
   ]
  },
  {
   "cell_type": "code",
   "execution_count": 40,
   "metadata": {},
   "outputs": [],
   "source": [
    "def PrintList(arr):\n",
    "    for i in range(len(arr)):\n",
    "        print(arr[i], end=' ')\n",
    "        print()\n",
    "        "
   ]
  },
  {
   "cell_type": "code",
   "execution_count": 41,
   "metadata": {},
   "outputs": [],
   "source": [
    "arr=[85,24,63,45,17,31,96,50]\n"
   ]
  },
  {
   "cell_type": "code",
   "execution_count": 42,
   "metadata": {},
   "outputs": [
    {
     "name": "stdout",
     "output_type": "stream",
     "text": [
      "85 \n",
      "24 \n",
      "63 \n",
      "45 \n",
      "17 \n",
      "31 \n",
      "96 \n",
      "50 \n"
     ]
    }
   ],
   "source": [
    "PrintList(arr)"
   ]
  },
  {
   "cell_type": "code",
   "execution_count": 43,
   "metadata": {},
   "outputs": [],
   "source": [
    "mergesort(arr)"
   ]
  },
  {
   "cell_type": "code",
   "execution_count": 44,
   "metadata": {},
   "outputs": [
    {
     "name": "stdout",
     "output_type": "stream",
     "text": [
      "17 \n",
      "24 \n",
      "31 \n",
      "45 \n",
      "50 \n",
      "63 \n",
      "85 \n",
      "96 \n"
     ]
    }
   ],
   "source": [
    "PrintList(arr)"
   ]
  },
  {
   "cell_type": "code",
   "execution_count": 4,
   "metadata": {},
   "outputs": [
    {
     "ename": "ModuleNotFoundError",
     "evalue": "No module named 'linkedlist'",
     "output_type": "error",
     "traceback": [
      "\u001b[0;31m---------------------------------------------------------------------------\u001b[0m",
      "\u001b[0;31mModuleNotFoundError\u001b[0m                       Traceback (most recent call last)",
      "\u001b[0;32m<ipython-input-4-879b58eb3144>\u001b[0m in \u001b[0;36m<module>\u001b[0;34m()\u001b[0m\n\u001b[0;32m----> 1\u001b[0;31m \u001b[0;32mimport\u001b[0m \u001b[0mlinkedlist\u001b[0m \u001b[0;32mas\u001b[0m \u001b[0mll\u001b[0m\u001b[0;34m\u001b[0m\u001b[0;34m\u001b[0m\u001b[0m\n\u001b[0m",
      "\u001b[0;31mModuleNotFoundError\u001b[0m: No module named 'linkedlist'"
     ]
    }
   ],
   "source": [
    "import linkedlist as ll"
   ]
  },
  {
   "cell_type": "code",
   "execution_count": 148,
   "metadata": {},
   "outputs": [],
   "source": [
    "def merge(S1,S2,S):\n",
    "    while not S1.is_empty() and not S2.is_empty():\n",
    "        if S1.first()<=S2.first():\n",
    "            S.enqueue(S1.dequeue())\n",
    "        else:\n",
    "            S.enqueue(S2.dequeue())\n",
    "    while not S1.is_empty:\n",
    "        S.enqueue(S1.dequeue())\n",
    "    while not S2.is_empty:\n",
    "        S.enqueue(S1.dequeue())\n",
    "            \n",
    "\n",
    "\n",
    "\n",
    "def merge_Sort(S):\n",
    "    n=len(S)\n",
    "    if n<2:\n",
    "        return\n",
    "    S1=ll.Linked_queue()\n",
    "    S2=ll.Linked_queue()\n",
    "    while len(S1)<n//2:\n",
    "        S1.enqueue(S.dequeue())\n",
    "    while not S.is_empty():\n",
    "        S2.enqueue(S.dequeue())\n",
    "    merge_Sort(S1)\n",
    "    merge_Sort(S2)\n",
    "    merge (S1,S2,S)\n",
    "    \n",
    "            \n",
    "        "
   ]
  },
  {
   "cell_type": "code",
   "execution_count": 149,
   "metadata": {},
   "outputs": [],
   "source": [
    "S=ll.Linked_queue()"
   ]
  },
  {
   "cell_type": "code",
   "execution_count": 150,
   "metadata": {},
   "outputs": [],
   "source": [
    "S.enqueue(20)\n"
   ]
  },
  {
   "cell_type": "code",
   "execution_count": 151,
   "metadata": {},
   "outputs": [],
   "source": [
    "S.enqueue(10)"
   ]
  },
  {
   "cell_type": "code",
   "execution_count": 152,
   "metadata": {},
   "outputs": [],
   "source": [
    "S.enqueue(30)"
   ]
  },
  {
   "cell_type": "code",
   "execution_count": 153,
   "metadata": {},
   "outputs": [],
   "source": [
    "S.enqueue(50)"
   ]
  },
  {
   "cell_type": "code",
   "execution_count": 154,
   "metadata": {},
   "outputs": [],
   "source": [
    "S.enqueue(40)"
   ]
  },
  {
   "cell_type": "code",
   "execution_count": 155,
   "metadata": {},
   "outputs": [],
   "source": [
    "S.enqueue(80)"
   ]
  },
  {
   "cell_type": "code",
   "execution_count": 156,
   "metadata": {},
   "outputs": [],
   "source": [
    "S.enqueue(60)"
   ]
  },
  {
   "cell_type": "code",
   "execution_count": 157,
   "metadata": {},
   "outputs": [],
   "source": [
    "merge_Sort(S)"
   ]
  },
  {
   "cell_type": "code",
   "execution_count": 158,
   "metadata": {},
   "outputs": [
    {
     "data": {
      "text/plain": [
       "10"
      ]
     },
     "execution_count": 158,
     "metadata": {},
     "output_type": "execute_result"
    }
   ],
   "source": [
    "S.first()"
   ]
  },
  {
   "cell_type": "code",
   "execution_count": 160,
   "metadata": {},
   "outputs": [
    {
     "ename": "AttributeError",
     "evalue": "'Linked_queue' object has no attribute 'display'",
     "output_type": "error",
     "traceback": [
      "\u001b[0;31m---------------------------------------------------------------------------\u001b[0m",
      "\u001b[0;31mAttributeError\u001b[0m                            Traceback (most recent call last)",
      "\u001b[0;32m<ipython-input-160-61ef0f2b13cf>\u001b[0m in \u001b[0;36m<module>\u001b[0;34m()\u001b[0m\n\u001b[0;32m----> 1\u001b[0;31m \u001b[0mS\u001b[0m\u001b[0;34m.\u001b[0m\u001b[0mdisplay\u001b[0m\u001b[0;34m(\u001b[0m\u001b[0;34m)\u001b[0m\u001b[0;34m\u001b[0m\u001b[0;34m\u001b[0m\u001b[0m\n\u001b[0m",
      "\u001b[0;31mAttributeError\u001b[0m: 'Linked_queue' object has no attribute 'display'"
     ]
    }
   ],
   "source": [
    "S.display()"
   ]
  },
  {
   "cell_type": "code",
   "execution_count": 142,
   "metadata": {},
   "outputs": [],
   "source": [
    "def selection_sort(A):\n",
    "    for i in range(len(A)):\n",
    "        minindex=i\n",
    "        for j in range(i+1,len(A)):\n",
    "            if A[minindex]>A[j]:\n",
    "                minindex=j\n",
    "        A[i],A[minindex]=A[minindex],A[i]\n",
    "    print(\"Sorted array\")\n",
    "    for i in range(len(A)):\n",
    "            print(A[i], end=' ')"
   ]
  },
  {
   "cell_type": "code",
   "execution_count": 143,
   "metadata": {},
   "outputs": [],
   "source": [
    "A=[64,25,12,22,17]"
   ]
  },
  {
   "cell_type": "code",
   "execution_count": 144,
   "metadata": {},
   "outputs": [
    {
     "name": "stdout",
     "output_type": "stream",
     "text": [
      "Sorted array\n",
      "12 17 22 25 64 "
     ]
    }
   ],
   "source": [
    "selection_sort(A)"
   ]
  },
  {
   "cell_type": "markdown",
   "metadata": {},
   "source": [
    "## Insertion Sort"
   ]
  },
  {
   "cell_type": "code",
   "execution_count": 145,
   "metadata": {},
   "outputs": [],
   "source": [
    "def insertion_Sort(A):\n",
    "    for i in range(1,len(A)):\n",
    "        key=A[i]\n",
    "        j=i-1\n",
    "        while j>=0 and key<A[j]:\n",
    "            A[j+1]=A[j]\n",
    "            j-=1\n",
    "        A[j+1]=key\n",
    "    print(\"Sorted array\")\n",
    "    for i in range(len(A)):\n",
    "        print(A[i], end=' ')\n",
    "        "
   ]
  },
  {
   "cell_type": "code",
   "execution_count": 146,
   "metadata": {},
   "outputs": [
    {
     "name": "stdout",
     "output_type": "stream",
     "text": [
      "Sorted array\n",
      "12 17 22 25 64 "
     ]
    }
   ],
   "source": [
    "insertion_Sort(A)"
   ]
  },
  {
   "cell_type": "markdown",
   "metadata": {},
   "source": [
    "## Quick sort"
   ]
  },
  {
   "cell_type": "code",
   "execution_count": 15,
   "metadata": {},
   "outputs": [],
   "source": [
    "def partition(A,p,r):\n",
    "    x=A[r]\n",
    "    i=p-1\n",
    "    for j in range(p,r):\n",
    "        if A[j]<=x:\n",
    "            i=i+1\n",
    "            \n",
    "          \n",
    "            A[i],A[j]=A[j],A[i]\n",
    "    A[i+1],A[r]=A[r],A[i+1]\n",
    "    \n",
    "    return i+1\n",
    "\n",
    "        \n",
    "\n",
    "\n",
    "\n",
    "def QuickSort(A,p,r):\n",
    "    if p<r:\n",
    "        q=partition(A,p,r)\n",
    "        QuickSort(A,p,q-1)\n",
    "        QuickSort(A,q+1,r)\n",
    "\n",
    "        \n",
    "        "
   ]
  },
  {
   "cell_type": "code",
   "execution_count": 16,
   "metadata": {},
   "outputs": [],
   "source": [
    "arr=[85,24,63,45,17,31,96,50]\n",
    "QuickSort(arr,0,len(arr)-1)"
   ]
  },
  {
   "cell_type": "code",
   "execution_count": 17,
   "metadata": {},
   "outputs": [
    {
     "data": {
      "text/plain": [
       "[17, 24, 31, 45, 50, 63, 85, 96]"
      ]
     },
     "execution_count": 17,
     "metadata": {},
     "output_type": "execute_result"
    }
   ],
   "source": [
    "arr"
   ]
  },
  {
   "cell_type": "markdown",
   "metadata": {},
   "source": [
    "### quick sort linked list implementation"
   ]
  },
  {
   "cell_type": "code",
   "execution_count": null,
   "metadata": {},
   "outputs": [],
   "source": [
    "def quick_sort(S):\n",
    "    n=len(S)\n",
    "    if n<2:\n",
    "        return\n",
    "    p=S.last()"
   ]
  }
 ],
 "metadata": {
  "kernelspec": {
   "display_name": "Python 3",
   "language": "python",
   "name": "python3"
  },
  "language_info": {
   "codemirror_mode": {
    "name": "ipython",
    "version": 3
   },
   "file_extension": ".py",
   "mimetype": "text/x-python",
   "name": "python",
   "nbconvert_exporter": "python",
   "pygments_lexer": "ipython3",
   "version": "3.6.7"
  }
 },
 "nbformat": 4,
 "nbformat_minor": 2
}
