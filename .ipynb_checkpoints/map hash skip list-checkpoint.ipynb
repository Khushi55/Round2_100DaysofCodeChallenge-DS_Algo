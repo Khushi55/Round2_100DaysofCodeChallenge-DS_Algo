{
 "cells": [
  {
   "cell_type": "markdown",
   "metadata": {},
   "source": [
    "## DICTIONARIES AND MAPS"
   ]
  },
  {
   "cell_type": "code",
   "execution_count": 1,
   "metadata": {},
   "outputs": [],
   "source": [
    "dic={1:'a',2:'b',3:'c'}\n"
   ]
  },
  {
   "cell_type": "code",
   "execution_count": 11,
   "metadata": {},
   "outputs": [],
   "source": [
    "dic.setdefault(5)"
   ]
  },
  {
   "cell_type": "code",
   "execution_count": 12,
   "metadata": {},
   "outputs": [
    {
     "data": {
      "text/plain": [
       "(5, None)"
      ]
     },
     "execution_count": 12,
     "metadata": {},
     "output_type": "execute_result"
    }
   ],
   "source": [
    "dic.popitem()\n"
   ]
  },
  {
   "cell_type": "code",
   "execution_count": 13,
   "metadata": {},
   "outputs": [
    {
     "data": {
      "text/plain": [
       "{1: 'a', 2: 'b', 3: 'c'}"
      ]
     },
     "execution_count": 13,
     "metadata": {},
     "output_type": "execute_result"
    }
   ],
   "source": [
    "dic"
   ]
  },
  {
   "cell_type": "code",
   "execution_count": 14,
   "metadata": {},
   "outputs": [
    {
     "data": {
      "text/plain": [
       "(3, 'c')"
      ]
     },
     "execution_count": 14,
     "metadata": {},
     "output_type": "execute_result"
    }
   ],
   "source": [
    "dic.popitem()"
   ]
  },
  {
   "cell_type": "markdown",
   "metadata": {},
   "source": [
    "### MapBase Class "
   ]
  },
  {
   "cell_type": "code",
   "execution_count": 8,
   "metadata": {},
   "outputs": [],
   "source": [
    "class MapBase(collections.MutableMapping):\n",
    "    \n",
    "    class _item:\n",
    "        \n",
    "        __slots = '_key' , '_value'\n",
    "        \n",
    "        def __init__(self,k,v):\n",
    "            self._key=k\n",
    "            self._value=v\n",
    "        \n",
    "        \n",
    "        def __eq__(self,other):\n",
    "            return self._key==other._key\n",
    "        \n",
    "        def __ne__(self):\n",
    "            return not (self==other)\n",
    "        \n",
    "        def __it__(self,other):\n",
    "            return self._key < other._key"
   ]
  },
  {
   "cell_type": "markdown",
   "metadata": {},
   "source": [
    "## Unsorted Table Map"
   ]
  },
  {
   "cell_type": "code",
   "execution_count": 9,
   "metadata": {},
   "outputs": [],
   "source": [
    "import collections"
   ]
  },
  {
   "cell_type": "code",
   "execution_count": 10,
   "metadata": {},
   "outputs": [],
   "source": [
    "class UnsortedTableMap(MapBase):\n",
    "    def __init__(self):\n",
    "        self.table=[]\n",
    "        \n",
    "    def __getitem__(self,k):\n",
    "        for item in self.table:\n",
    "            if k==item._key:\n",
    "                return item._value\n",
    "        raise KeyError( \"Key Error:\" + repr(k))\n",
    "            \n",
    "    def __setitem__(self,k,v):\n",
    "        for item in self.table:\n",
    "            if k==item._key:\n",
    "                item._value=v\n",
    "                return\n",
    "        self.table.append(self._item(k,v))  \n",
    "     \n",
    "    def __delitem__(self,k):\n",
    "        for j in range(len(self.table)):\n",
    "            if k==self.table[j]._key:\n",
    "                self.table.pop(j)\n",
    "        raise KeyError(\"key Error:\" +repr(k))\n",
    "        \n",
    "    def __len__(self):\n",
    "        return(len(self.table))\n",
    "    \n",
    "    def __iter__(self):\n",
    "        for item in self.table:\n",
    "             yield item._key\n",
    "                \n",
    "        \n",
    "                \n",
    "            "
   ]
  },
  {
   "cell_type": "code",
   "execution_count": 28,
   "metadata": {},
   "outputs": [],
   "source": [
    "H=UnsortedTableMap()"
   ]
  },
  {
   "cell_type": "code",
   "execution_count": 31,
   "metadata": {},
   "outputs": [],
   "source": [
    "H.__setitem__(4,'D')"
   ]
  },
  {
   "cell_type": "code",
   "execution_count": 33,
   "metadata": {},
   "outputs": [
    {
     "data": {
      "text/plain": [
       "'D'"
      ]
     },
     "execution_count": 33,
     "metadata": {},
     "output_type": "execute_result"
    }
   ],
   "source": [
    "H.__getitem__(4)"
   ]
  },
  {
   "cell_type": "code",
   "execution_count": 35,
   "metadata": {},
   "outputs": [],
   "source": [
    "H.__setitem__(3,'C')"
   ]
  },
  {
   "cell_type": "code",
   "execution_count": 39,
   "metadata": {},
   "outputs": [
    {
     "data": {
      "text/plain": [
       "2"
      ]
     },
     "execution_count": 39,
     "metadata": {},
     "output_type": "execute_result"
    }
   ],
   "source": [
    "H.__len__()"
   ]
  },
  {
   "cell_type": "code",
   "execution_count": 47,
   "metadata": {},
   "outputs": [
    {
     "data": {
      "text/plain": [
       "<generator object UnsortedTableMap.__iter__ at 0x7f40700d4728>"
      ]
     },
     "execution_count": 47,
     "metadata": {},
     "output_type": "execute_result"
    }
   ],
   "source": [
    "H.__iter__()"
   ]
  },
  {
   "cell_type": "code",
   "execution_count": 1,
   "metadata": {},
   "outputs": [
    {
     "data": {
      "text/plain": [
       "2"
      ]
     },
     "execution_count": 1,
     "metadata": {},
     "output_type": "execute_result"
    }
   ],
   "source": [
    "hash(2)"
   ]
  },
  {
   "cell_type": "code",
   "execution_count": 2,
   "metadata": {},
   "outputs": [
    {
     "data": {
      "text/plain": [
       "2003764205207330320"
      ]
     },
     "execution_count": 2,
     "metadata": {},
     "output_type": "execute_result"
    }
   ],
   "source": [
    "hash(1000000000000000000000000)"
   ]
  },
  {
   "cell_type": "code",
   "execution_count": 3,
   "metadata": {},
   "outputs": [
    {
     "data": {
      "text/plain": [
       "<function hash>"
      ]
     },
     "execution_count": 3,
     "metadata": {},
     "output_type": "execute_result"
    }
   ],
   "source": []
  },
  {
   "cell_type": "markdown",
   "metadata": {},
   "source": [
    "## Hash Implementation"
   ]
  },
  {
   "cell_type": "code",
   "execution_count": 11,
   "metadata": {},
   "outputs": [],
   "source": [
    "import random"
   ]
  },
  {
   "cell_type": "code",
   "execution_count": 8,
   "metadata": {},
   "outputs": [],
   "source": [
    "class HashMapBase(MapBase):\n",
    "    def __init__(self, cap=11, p=109345121):\n",
    "        self._table=cap*[None]\n",
    "        self._n=0\n",
    "        self._prime=p\n",
    "        self._scale=1+random.randrange(p-1)   #a>0\n",
    "        self._shift=random.randrange(p)             # b\n",
    "        \n",
    "    def _hash_function(self,k):\n",
    "        return((hash(k)*self._scale+self._shift)%self._prime %len(self._table) )   # MAD compression function\n",
    "              \n",
    "    def __len__(self):\n",
    "               return self._n\n",
    "        \n",
    "    def __getitem__(self,k):\n",
    "               j=self._hash_function(k)\n",
    "               return self._bucket_getitem(j,k)\n",
    "    \n",
    "    def __setitem__(self,k,v):\n",
    "        j=self._hash_function(k)\n",
    "        self._bucket_setitem(j,k,v)# maintains n\n",
    "        if self._n>len(self._table)//2:\n",
    "            self._resize(2*len(self._table)-1)\n",
    "    \n",
    "    def __delitem__(self,k):\n",
    "        j=self._hash_function(k)\n",
    "        self._bucket_delitem(j,k)\n",
    "        self._n-=1\n",
    "    \n",
    "    \n",
    "    def _resize(self,c):\n",
    "        old=list(self.items())\n",
    "        self._table=c*[None]\n",
    "        self._n=0\n",
    "        for (k,v) in old:\n",
    "            self[k]=v\n",
    "            \n",
    "    def __iter__(self):\n",
    "        for bucket in self._table:\n",
    "            if bucket is not None:\n",
    "                for key in bucket:\n",
    "                    yield key         \n",
    "            \n",
    "            \n",
    "        \n",
    "               \n",
    "        "
   ]
  },
  {
   "cell_type": "markdown",
   "metadata": {},
   "source": [
    "### SeprateChaining hash implementation"
   ]
  },
  {
   "cell_type": "code",
   "execution_count": 16,
   "metadata": {},
   "outputs": [],
   "source": [
    "class ChainHashMap(HashMapBase):\n",
    "    \n",
    "    def _bucket_getitem(self,j,k):\n",
    "        bucket=self._table[j]\n",
    "        if bucket is None:\n",
    "            raise KeyError( \"Key Error:\" + repr(k))\n",
    "        return bucket[k]\n",
    "    \n",
    "    def _bucket_setitem(self,j,k,v):\n",
    "        if self._table[j] is None:\n",
    "            self._table[j]=UnsortedTableMap()\n",
    "            oldsize=len(self._table[j])\n",
    "            self._table[j][k]=v\n",
    "            if len(self._table[j])>oldsize:\n",
    "                self._n+=1\n",
    "    \n",
    "    def _bucket_delitem(self,j,k):\n",
    "        if self._table[j] is None:\n",
    "            raise KeyError(\"Key Error :\" + repr(k))\n",
    "        del self.table[j][k]\n",
    "        \n",
    "    def __iter__(self):\n",
    "        for bucket in self._table:\n",
    "            if bucket is not None:\n",
    "                for key in bucket:\n",
    "                    yield key\n",
    "                    \n",
    "            \n",
    "                           "
   ]
  },
  {
   "cell_type": "code",
   "execution_count": 17,
   "metadata": {},
   "outputs": [],
   "source": [
    "K=ChainHashMap()"
   ]
  },
  {
   "cell_type": "code",
   "execution_count": 18,
   "metadata": {},
   "outputs": [],
   "source": [
    "K.__setitem__(3,'6')"
   ]
  },
  {
   "cell_type": "code",
   "execution_count": 19,
   "metadata": {},
   "outputs": [],
   "source": [
    "K.__setitem__(5,'7')"
   ]
  },
  {
   "cell_type": "code",
   "execution_count": 20,
   "metadata": {},
   "outputs": [],
   "source": [
    "K.__setitem__(30,'8')"
   ]
  },
  {
   "cell_type": "code",
   "execution_count": 29,
   "metadata": {},
   "outputs": [
    {
     "data": {
      "text/plain": [
       "[<__main__.UnsortedTableMap at 0x7f0cb8aaca58>,\n",
       " None,\n",
       " <__main__.UnsortedTableMap at 0x7f0cb8aac8d0>,\n",
       " None,\n",
       " None,\n",
       " None,\n",
       " None,\n",
       " <__main__.UnsortedTableMap at 0x7f0cb8aacac8>,\n",
       " None,\n",
       " None,\n",
       " None]"
      ]
     },
     "execution_count": 29,
     "metadata": {},
     "output_type": "execute_result"
    }
   ],
   "source": [
    "K._table"
   ]
  },
  {
   "cell_type": "code",
   "execution_count": 31,
   "metadata": {},
   "outputs": [],
   "source": [
    "K.__setitem__(12,'6')"
   ]
  },
  {
   "cell_type": "code",
   "execution_count": 32,
   "metadata": {},
   "outputs": [],
   "source": [
    "K.__setitem__(17,'5')"
   ]
  },
  {
   "cell_type": "code",
   "execution_count": 33,
   "metadata": {},
   "outputs": [
    {
     "data": {
      "text/plain": [
       "'6'"
      ]
     },
     "execution_count": 33,
     "metadata": {},
     "output_type": "execute_result"
    }
   ],
   "source": [
    "K.__getitem__(12)"
   ]
  },
  {
   "cell_type": "code",
   "execution_count": 34,
   "metadata": {},
   "outputs": [
    {
     "data": {
      "text/plain": [
       "[<__main__.UnsortedTableMap at 0x7f0cb8aaca58>,\n",
       " None,\n",
       " <__main__.UnsortedTableMap at 0x7f0cb8aac8d0>,\n",
       " None,\n",
       " <__main__.UnsortedTableMap at 0x7f0cb8b04c88>,\n",
       " None,\n",
       " None,\n",
       " <__main__.UnsortedTableMap at 0x7f0cb8aacac8>,\n",
       " None,\n",
       " <__main__.UnsortedTableMap at 0x7f0cb8b042b0>,\n",
       " None]"
      ]
     },
     "execution_count": 34,
     "metadata": {},
     "output_type": "execute_result"
    }
   ],
   "source": [
    "K._table"
   ]
  },
  {
   "cell_type": "code",
   "execution_count": 35,
   "metadata": {},
   "outputs": [],
   "source": [
    "K.__setitem__(5,'2')"
   ]
  },
  {
   "cell_type": "code",
   "execution_count": 37,
   "metadata": {},
   "outputs": [],
   "source": [
    "K.__setitem__(0,\"9\")"
   ]
  },
  {
   "cell_type": "code",
   "execution_count": 38,
   "metadata": {},
   "outputs": [
    {
     "data": {
      "text/plain": [
       "[None,\n",
       " None,\n",
       " None,\n",
       " None,\n",
       " None,\n",
       " <__main__.UnsortedTableMap at 0x7f0cb8aacba8>,\n",
       " None,\n",
       " <__main__.UnsortedTableMap at 0x7f0cb8aac940>,\n",
       " None,\n",
       " <__main__.UnsortedTableMap at 0x7f0cb8aacb70>,\n",
       " None,\n",
       " None,\n",
       " None,\n",
       " None,\n",
       " None,\n",
       " None,\n",
       " <__main__.UnsortedTableMap at 0x7f0cb8aac978>,\n",
       " <__main__.UnsortedTableMap at 0x7f0cb8aac0b8>,\n",
       " None,\n",
       " <__main__.UnsortedTableMap at 0x7f0cb8aac9b0>,\n",
       " None]"
      ]
     },
     "execution_count": 38,
     "metadata": {},
     "output_type": "execute_result"
    }
   ],
   "source": [
    "K._table"
   ]
  },
  {
   "cell_type": "markdown",
   "metadata": {},
   "source": [
    "## Sorted Map "
   ]
  },
  {
   "cell_type": "code",
   "execution_count": null,
   "metadata": {},
   "outputs": [],
   "source": []
  },
  {
   "cell_type": "code",
   "execution_count": null,
   "metadata": {},
   "outputs": [],
   "source": []
  },
  {
   "cell_type": "code",
   "execution_count": 74,
   "metadata": {},
   "outputs": [],
   "source": [
    "class SortedTableMap(MapBase):\n",
    "    def _find_index(self,k,low,high):\n",
    "        if high<low:\n",
    "            return high+1\n",
    "        else:\n",
    "            mid=(high+low)//2\n",
    "            if k==self._table[mid]._key:\n",
    "                return mid\n",
    "            elif k<self._table[mid]._key:\n",
    "                return self._find_index(k,low,mid-1)\n",
    "            elif k>self._table[mid]._key:\n",
    "                return self._find_index(k,mid+1,high)\n",
    "    \n",
    "    def __init__(self):\n",
    "        self._table=[]\n",
    "        \n",
    "    def __len__(self):\n",
    "        return(len(self._table))\n",
    "    \n",
    "    def __getitem__(self,k):\n",
    "        j=self._find_index(k,0,len(self._table)-1)\n",
    "        if j==len(self._table) or self._table[j]._key!=k:\n",
    "            raise KeyError(\"KeyError:\" + repr(k))\n",
    "        return self._table[j]._value\n",
    "    \n",
    "    def __setitem__(self,k,v):\n",
    "        j=self._find_index(k,0,len(self._table)-1)\n",
    "        if j<len(self._table) and self._table[j]._key==k:\n",
    "            self._table[j]._value=v\n",
    "        else:\n",
    "            self._table.insert(j,self._item(k,v))\n",
    "    \n",
    "    def __delitem__(self,k):\n",
    "        j=self.find_index(k,0,len(self._table)-1)\n",
    "        if j==len(self._table) or self._table[j]._key!=k:\n",
    "            raise KeyError(\"key error :\" + repr(k))\n",
    "        else:\n",
    "            self._table.pop(j)\n",
    "            \n",
    "    def __iter__(self):\n",
    "        for item in self._table:\n",
    "            yield item._key\n",
    "      \n",
    "    def __reversed__(self):\n",
    "        for item in reversed(self._table):\n",
    "            yield item._key\n",
    "            \n",
    "    def find_min(self):\n",
    "        if len(self._table)>0:\n",
    "            return(self._table[0]._key, self._table[0]._value)\n",
    "        else:\n",
    "            return None\n",
    "        \n",
    "    def find_max(self):\n",
    "        if len(self._table)>0:\n",
    "            return(self._table[-1]._key,self._table[-1]._value)\n",
    "        \n",
    "    def find_ge(self,k):\n",
    "        j=self._find_index(k,0,len(self._table)-1)\n",
    "        if j<len(self._table):\n",
    "            return(self._table[j]._key, self._table[j]._value)\n",
    "        else:\n",
    "            return None\n",
    "    def find_lt(self,k):\n",
    "        j=self._find_index(k,0,len(self._table)-1)\n",
    "        if j>0:\n",
    "            return(self._table[j-1]._key, self._table[j-1]._value)\n",
    "    def find_gt(self,k):\n",
    "        j=self._find_index(k,0,len(self._table)-1)\n",
    "        if j<len(self._table) or self._table[j]._key==k:\n",
    "            j+=1\n",
    "        if j<len(self._table):\n",
    "            return(self._table[j]._key, self._table[j]._value)\n",
    "        else:\n",
    "            return None\n",
    "    \n",
    "    def find_le(self,k):\n",
    "        j=self._find_index(k,0,len(self._table))\n",
    "        if j>=0 and self._table[j]._key==k:\n",
    "            return (self._table[j]._key,self._table[j]._value)\n",
    "        elif j>0:\n",
    "            return(self._table[j-1]._key, self._table[j-1]._value)\n",
    "    \n",
    "    \n",
    "    def find_range(self,start,stop):\n",
    "        if start is None:\n",
    "            j=0\n",
    "        else:\n",
    "            j=self._find_index(start,0,len(self._table)-1)\n",
    "            \n",
    "        while j < len(self._table) and (stop is None or self._table[j]._key < stop):\n",
    "            yield (self._table[j]._key, self._table[j]._value)\n",
    "            j+=1\n",
    "            \n",
    "        \n",
    "        \n",
    "            "
   ]
  },
  {
   "cell_type": "code",
   "execution_count": 75,
   "metadata": {},
   "outputs": [],
   "source": [
    "H=SortedTableMap()"
   ]
  },
  {
   "cell_type": "code",
   "execution_count": 76,
   "metadata": {},
   "outputs": [],
   "source": [
    "H.__setitem__(3,'C')"
   ]
  },
  {
   "cell_type": "code",
   "execution_count": 77,
   "metadata": {},
   "outputs": [],
   "source": [
    "H.__setitem__(4,'D')\n"
   ]
  },
  {
   "cell_type": "code",
   "execution_count": 78,
   "metadata": {},
   "outputs": [],
   "source": [
    "H.__setitem__(5,'E')"
   ]
  },
  {
   "cell_type": "code",
   "execution_count": 79,
   "metadata": {},
   "outputs": [
    {
     "data": {
      "text/plain": [
       "'C'"
      ]
     },
     "execution_count": 79,
     "metadata": {},
     "output_type": "execute_result"
    }
   ],
   "source": [
    "H.__getitem__(3)"
   ]
  },
  {
   "cell_type": "code",
   "execution_count": 80,
   "metadata": {},
   "outputs": [
    {
     "ename": "StopIteration",
     "evalue": "",
     "output_type": "error",
     "traceback": [
      "\u001b[0;31m---------------------------------------------------------------------------\u001b[0m",
      "\u001b[0;31mStopIteration\u001b[0m                             Traceback (most recent call last)",
      "\u001b[0;32m<ipython-input-80-649dd9fdb4cc>\u001b[0m in \u001b[0;36m<module>\u001b[0;34m()\u001b[0m\n\u001b[0;32m----> 1\u001b[0;31m \u001b[0mnext\u001b[0m\u001b[0;34m(\u001b[0m\u001b[0mH\u001b[0m\u001b[0;34m.\u001b[0m\u001b[0mfind_range\u001b[0m\u001b[0;34m(\u001b[0m\u001b[0;36m0\u001b[0m\u001b[0;34m,\u001b[0m\u001b[0;36m2\u001b[0m\u001b[0;34m)\u001b[0m\u001b[0;34m)\u001b[0m\u001b[0;34m\u001b[0m\u001b[0;34m\u001b[0m\u001b[0m\n\u001b[0m",
      "\u001b[0;31mStopIteration\u001b[0m: "
     ]
    }
   ],
   "source": [
    "next(H.find_range(0,2))"
   ]
  },
  {
   "cell_type": "code",
   "execution_count": 81,
   "metadata": {},
   "outputs": [],
   "source": [
    "H.__setitem__(1,'A')"
   ]
  },
  {
   "cell_type": "code",
   "execution_count": 82,
   "metadata": {},
   "outputs": [
    {
     "data": {
      "text/plain": [
       "(1, 'A')"
      ]
     },
     "execution_count": 82,
     "metadata": {},
     "output_type": "execute_result"
    }
   ],
   "source": [
    "H.find_lt(2)"
   ]
  },
  {
   "cell_type": "code",
   "execution_count": null,
   "metadata": {},
   "outputs": [],
   "source": []
  },
  {
   "cell_type": "code",
   "execution_count": null,
   "metadata": {},
   "outputs": [],
   "source": []
  },
  {
   "cell_type": "code",
   "execution_count": null,
   "metadata": {},
   "outputs": [],
   "source": []
  }
 ],
 "metadata": {
  "kernelspec": {
   "display_name": "Python 3",
   "language": "python",
   "name": "python3"
  },
  "language_info": {
   "codemirror_mode": {
    "name": "ipython",
    "version": 3
   },
   "file_extension": ".py",
   "mimetype": "text/x-python",
   "name": "python",
   "nbconvert_exporter": "python",
   "pygments_lexer": "ipython3",
   "version": "3.6.7"
  }
 },
 "nbformat": 4,
 "nbformat_minor": 2
}
