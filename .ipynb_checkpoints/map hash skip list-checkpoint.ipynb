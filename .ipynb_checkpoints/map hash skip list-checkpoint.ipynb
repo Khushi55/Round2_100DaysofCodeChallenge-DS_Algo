{
 "cells": [
  {
   "cell_type": "code",
   "execution_count": 1,
   "metadata": {},
   "outputs": [],
   "source": [
    "dic={1:'a',2:'b',3:'c'}\n"
   ]
  },
  {
   "cell_type": "code",
   "execution_count": 11,
   "metadata": {},
   "outputs": [],
   "source": [
    "dic.setdefault(5)"
   ]
  },
  {
   "cell_type": "code",
   "execution_count": 12,
   "metadata": {},
   "outputs": [
    {
     "data": {
      "text/plain": [
       "(5, None)"
      ]
     },
     "execution_count": 12,
     "metadata": {},
     "output_type": "execute_result"
    }
   ],
   "source": [
    "dic.popitem()\n"
   ]
  },
  {
   "cell_type": "code",
   "execution_count": 13,
   "metadata": {},
   "outputs": [
    {
     "data": {
      "text/plain": [
       "{1: 'a', 2: 'b', 3: 'c'}"
      ]
     },
     "execution_count": 13,
     "metadata": {},
     "output_type": "execute_result"
    }
   ],
   "source": [
    "dic"
   ]
  },
  {
   "cell_type": "code",
   "execution_count": 14,
   "metadata": {},
   "outputs": [
    {
     "data": {
      "text/plain": [
       "(3, 'c')"
      ]
     },
     "execution_count": 14,
     "metadata": {},
     "output_type": "execute_result"
    }
   ],
   "source": [
    "dic.popitem()"
   ]
  },
  {
   "cell_type": "code",
   "execution_count": 15,
   "metadata": {},
   "outputs": [],
   "source": [
    "class MapBase(collections.MutableMapping):\n",
    "    \n",
    "    class _item:\n",
    "        \n",
    "        __slots = '_key' , '_value'\n",
    "        \n",
    "        def __init__(self,k,v):\n",
    "            self._key=k\n",
    "            self._value=v\n",
    "        \n",
    "        \n",
    "        def __eq__(self,other):\n",
    "            return self._key==other._key\n",
    "        \n",
    "        def __ne__(self):\n",
    "            return not (self==other)\n",
    "        \n",
    "        def __it__(self,other):\n",
    "            return self._key < other._key"
   ]
  },
  {
   "cell_type": "code",
   "execution_count": 8,
   "metadata": {},
   "outputs": [],
   "source": [
    "import collections"
   ]
  },
  {
   "cell_type": "code",
   "execution_count": 21,
   "metadata": {},
   "outputs": [],
   "source": [
    "class UnsortedTableMap(MapBase):\n",
    "    def __init__(self):\n",
    "        self.table=[]\n",
    "        \n",
    "    def __getitem__(self,k):\n",
    "        for item in self.table:\n",
    "            if k==item._key:\n",
    "                return item._value\n",
    "        raise KeyError( \"Key Error:\" + repr(k))\n",
    "            \n",
    "    def __setitem__(self,k,v):\n",
    "        for item in self.table:\n",
    "            if k==item._key:\n",
    "                item._value=v\n",
    "                return\n",
    "        self.table.append(self._item(k,v))  \n",
    "     \n",
    "    def __delitem__(self,k):\n",
    "        for j in range(len(self.table)):\n",
    "            if k==self.table[j]._key:\n",
    "                self.table.pop(j)\n",
    "        raise KeyError(\"key Error:\" +repr(k))\n",
    "        \n",
    "    def __len__(self):\n",
    "        return(len(self.table))\n",
    "    \n",
    "    def __iter__(self):\n",
    "        for item in self.table:\n",
    "             yield item._key\n",
    "                \n",
    "        \n",
    "                \n",
    "            "
   ]
  },
  {
   "cell_type": "code",
   "execution_count": 25,
   "metadata": {},
   "outputs": [
    {
     "data": {
      "text/plain": [
       "str"
      ]
     },
     "execution_count": 25,
     "metadata": {},
     "output_type": "execute_result"
    }
   ],
   "source": []
  },
  {
   "cell_type": "code",
   "execution_count": null,
   "metadata": {},
   "outputs": [],
   "source": []
  }
 ],
 "metadata": {
  "kernelspec": {
   "display_name": "Python 3",
   "language": "python",
   "name": "python3"
  },
  "language_info": {
   "codemirror_mode": {
    "name": "ipython",
    "version": 3
   },
   "file_extension": ".py",
   "mimetype": "text/x-python",
   "name": "python",
   "nbconvert_exporter": "python",
   "pygments_lexer": "ipython3",
   "version": "3.6.7"
  }
 },
 "nbformat": 4,
 "nbformat_minor": 2
}
