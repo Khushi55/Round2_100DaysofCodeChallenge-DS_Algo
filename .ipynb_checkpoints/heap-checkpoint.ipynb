{
 "cells": [
  {
   "cell_type": "code",
   "execution_count": 9,
   "metadata": {},
   "outputs": [
    {
     "ename": "IndentationError",
     "evalue": "unindent does not match any outer indentation level (<ipython-input-9-732195989bb1>, line 8)",
     "output_type": "error",
     "traceback": [
      "\u001b[0;36m  File \u001b[0;32m\"<ipython-input-9-732195989bb1>\"\u001b[0;36m, line \u001b[0;32m8\u001b[0m\n\u001b[0;31m    def is_empty(self):\u001b[0m\n\u001b[0m                       ^\u001b[0m\n\u001b[0;31mIndentationError\u001b[0m\u001b[0;31m:\u001b[0m unindent does not match any outer indentation level\n"
     ]
    }
   ],
   "source": [
    "class Heaps:\n",
    "    def __init__(self):\n",
    "            self.heap=[]\n",
    "            \n",
    "            \n",
    "    def is_empty(self):\n",
    "        return len(self.heap)==0\n",
    "    \n",
    "    def parent(self,j):              # return  index of parent of jth index\n",
    "        return (j-1)//2\n",
    "    \n",
    "    def left_child(self,j):           # return index of left child of j\n",
    "        return 2*j+1\n",
    "    \n",
    "    def right_child(self,j):\n",
    "        return 2*j+2\n",
    "\n",
    "    def has_left(self,j):\n",
    "        return self.left_child(j)< len(self.heap)\n",
    "    \n",
    "    def has_right(self,j):\n",
    "        return self.right_child(j)<len(self.heap)\n",
    "    \n",
    "    def swap(self,i,j):\n",
    "        self.heap[i], self.heap[j]= self.heap[j], self.heap[i]\n",
    "        \n",
    "    def upheap(self,j):\n",
    "        parents=self.parent(j)\n",
    "        if j>0 and self.heap[j]<self.heap[parents]:\n",
    "            self.swap(j,parents)\n",
    "            self.upheap(parents)\n",
    "            \n",
    "            \n",
    "    def downheap(self,j):\n",
    "        if has_left(j):\n",
    "            left=left_child(j)\n",
    "            small_child=left\n",
    "            \n",
    "        if has_right(j):\n",
    "            right=right_child(j)\n",
    "            if self.heap[left]>self.heap[right]:\n",
    "                small_child=right\n",
    "                \n",
    "        if self.heap[j]>self.heap[small_child]:\n",
    "            self.swap(j,small_child)\n",
    "            self.downheap(small_child)\n",
    "            \n",
    "    def add(self, key,value):\n",
    "        self.heap.append((key,value))\n",
    "        self.upheap(len(self.heap)-1)\n",
    "        \n",
    "    def minimum(self):\n",
    "        if self.is_empty():\n",
    "            print(\"heapqueue is empty\")\n",
    "            return\n",
    "        return self.heap[0]\n",
    "    \n",
    "    def remove(self):\n",
    "        if self.is_empty():\n",
    "            print(\"heapqueue is empty\")\n",
    "            return\n",
    "        self.swap(0, len(self.heap)-1)\n",
    "        item=self.heap.pop()\n",
    "        self.downheap(0)\n",
    "        return item\n",
    "    \n",
    "        \n",
    "        \n",
    "            \n",
    "            \n",
    "    \n",
    "    "
   ]
  },
  {
   "cell_type": "code",
   "execution_count": null,
   "metadata": {},
   "outputs": [],
   "source": []
  },
  {
   "cell_type": "code",
   "execution_count": null,
   "metadata": {},
   "outputs": [],
   "source": []
  }
 ],
 "metadata": {
  "kernelspec": {
   "display_name": "Python 3",
   "language": "python",
   "name": "python3"
  },
  "language_info": {
   "codemirror_mode": {
    "name": "ipython",
    "version": 3
   },
   "file_extension": ".py",
   "mimetype": "text/x-python",
   "name": "python",
   "nbconvert_exporter": "python",
   "pygments_lexer": "ipython3",
   "version": "3.6.7"
  }
 },
 "nbformat": 4,
 "nbformat_minor": 2
}
