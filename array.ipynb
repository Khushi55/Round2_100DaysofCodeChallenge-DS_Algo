{
 "cells": [
  {
   "cell_type": "markdown",
   "metadata": {},
   "source": [
    "### Dynamic Array Implementation "
   ]
  },
  {
   "cell_type": "code",
   "execution_count": 2,
   "metadata": {},
   "outputs": [],
   "source": [
    "import ctypes\n"
   ]
  },
  {
   "cell_type": "code",
   "execution_count": 56,
   "metadata": {},
   "outputs": [],
   "source": [
    "class DynamicArray:\n",
    "    def __init__(self):\n",
    "        self.n=0              #actual no of element\n",
    "        self.capacity=1\n",
    "        self.A=self.make_array(self.capacity)\n",
    "    def __len__(self):\n",
    "        return self.n\n",
    "    def __getitem__(self,k):\n",
    "        if not 0<=k<self.n:\n",
    "            raise IndexError(\"invalid index\")\n",
    "        return self.A[k] \n",
    "    def __append__(self,obj):\n",
    "        if self.n==self.capacity:\n",
    "            self.resize(2*self.capacity)\n",
    "        self.A[self.n]=obj\n",
    "        self.n+=1\n",
    "    def resize(self,c):\n",
    "        B=self.make_array(c)\n",
    "        for k in range(self.n):\n",
    "            B[k]=self.A[k]\n",
    "        self.A=B\n",
    "        self.capacity=c\n",
    "    def make_array(self,c):\n",
    "        return (c*ctypes.py_object)()\n",
    "    "
   ]
  },
  {
   "cell_type": "code",
   "execution_count": 57,
   "metadata": {},
   "outputs": [],
   "source": [
    "N=DynamicArray()\n",
    "N.__append__(1)"
   ]
  },
  {
   "cell_type": "code",
   "execution_count": 58,
   "metadata": {},
   "outputs": [
    {
     "data": {
      "text/plain": [
       "1"
      ]
     },
     "execution_count": 58,
     "metadata": {},
     "output_type": "execute_result"
    }
   ],
   "source": [
    "N.__len__()"
   ]
  },
  {
   "cell_type": "code",
   "execution_count": 59,
   "metadata": {},
   "outputs": [
    {
     "data": {
      "text/plain": [
       "1"
      ]
     },
     "execution_count": 59,
     "metadata": {},
     "output_type": "execute_result"
    }
   ],
   "source": [
    "N.n"
   ]
  },
  {
   "cell_type": "code",
   "execution_count": 60,
   "metadata": {},
   "outputs": [
    {
     "data": {
      "text/plain": [
       "1"
      ]
     },
     "execution_count": 60,
     "metadata": {},
     "output_type": "execute_result"
    }
   ],
   "source": [
    "N.__len__()"
   ]
  },
  {
   "cell_type": "code",
   "execution_count": 61,
   "metadata": {},
   "outputs": [],
   "source": [
    "N.__append__(2)"
   ]
  },
  {
   "cell_type": "code",
   "execution_count": 62,
   "metadata": {},
   "outputs": [
    {
     "data": {
      "text/plain": [
       "2"
      ]
     },
     "execution_count": 62,
     "metadata": {},
     "output_type": "execute_result"
    }
   ],
   "source": [
    "N.A[1]"
   ]
  },
  {
   "cell_type": "code",
   "execution_count": 63,
   "metadata": {},
   "outputs": [
    {
     "data": {
      "text/plain": [
       "2"
      ]
     },
     "execution_count": 63,
     "metadata": {},
     "output_type": "execute_result"
    }
   ],
   "source": [
    "N.__len__()"
   ]
  },
  {
   "cell_type": "markdown",
   "metadata": {},
   "source": [
    "### Adding an element at specific location and removing a particular value"
   ]
  },
  {
   "cell_type": "code",
   "execution_count": 127,
   "metadata": {},
   "outputs": [],
   "source": [
    "class DynamicArray:\n",
    "    def __init__(self):\n",
    "        self.n=0              #actual no of element\n",
    "        self.capacity=1\n",
    "        self.A=self.make_array(self.capacity)\n",
    "    def __len__(self):\n",
    "        return self.n\n",
    "    def __getitem__(self,k):\n",
    "        if not 0<=k<self.n:\n",
    "            raise IndexError(\"invalid index\")\n",
    "        return self.A[k] \n",
    "    def __append__(self,obj):\n",
    "        if self.n==self.capacity:\n",
    "            self.resize(2*self.capacity)\n",
    "        self.A[self.n]=obj\n",
    "        self.n+=1\n",
    "    def resize(self,c):\n",
    "        B=self.make_array(c)\n",
    "        for k in range(self.n):\n",
    "            B[k]=self.A[k]\n",
    "        self.A=B\n",
    "        self.capacity=c\n",
    "    def make_array(self,c):\n",
    "        return (c*ctypes.py_object)()\n",
    "    \n",
    "    def insert(self,k,val):                         # ADDING AN ELEMENT AT A SPECIFIC POSITION\n",
    "        if self.n==self.capacity:\n",
    "            self.resize(2*self.capacity)\n",
    "        for j in range(self.n,k,-1):\n",
    "            self.A[j]=self.A[j-1]\n",
    "        self.A[k]=val\n",
    "        self.n+=1\n",
    "        \n",
    "    def remove(self, val):                                   # Removing a particular first occurence element\n",
    "        for i in range(self.n):\n",
    "            if self.A[i]==val:\n",
    "                for j in range(i, self.n-1):\n",
    "                    self.A[j]=self.A[j+1]\n",
    "                self.A[self.n-1]=None\n",
    "                self.n-=1\n",
    "                return\n",
    "        raise ValueError(\"value not found\")    \n",
    "            \n",
    "        "
   ]
  },
  {
   "cell_type": "code",
   "execution_count": 113,
   "metadata": {},
   "outputs": [],
   "source": [
    "N=DynamicArray()\n"
   ]
  },
  {
   "cell_type": "code",
   "execution_count": 114,
   "metadata": {},
   "outputs": [],
   "source": [
    "N.__append__(1)"
   ]
  },
  {
   "cell_type": "code",
   "execution_count": 115,
   "metadata": {},
   "outputs": [],
   "source": [
    "N.__append__(2)"
   ]
  },
  {
   "cell_type": "code",
   "execution_count": 116,
   "metadata": {},
   "outputs": [],
   "source": [
    "N.__append__(3)"
   ]
  },
  {
   "cell_type": "code",
   "execution_count": 117,
   "metadata": {},
   "outputs": [
    {
     "data": {
      "text/plain": [
       "2"
      ]
     },
     "execution_count": 117,
     "metadata": {},
     "output_type": "execute_result"
    }
   ],
   "source": [
    "N.A[1]"
   ]
  },
  {
   "cell_type": "code",
   "execution_count": 118,
   "metadata": {},
   "outputs": [],
   "source": [
    "N.insert(1,4)"
   ]
  },
  {
   "cell_type": "code",
   "execution_count": 119,
   "metadata": {},
   "outputs": [
    {
     "data": {
      "text/plain": [
       "4"
      ]
     },
     "execution_count": 119,
     "metadata": {},
     "output_type": "execute_result"
    }
   ],
   "source": [
    "N.A[1]"
   ]
  },
  {
   "cell_type": "code",
   "execution_count": 120,
   "metadata": {},
   "outputs": [],
   "source": [
    "N.remove(4)"
   ]
  },
  {
   "cell_type": "code",
   "execution_count": 121,
   "metadata": {},
   "outputs": [
    {
     "data": {
      "text/plain": [
       "2"
      ]
     },
     "execution_count": 121,
     "metadata": {},
     "output_type": "execute_result"
    }
   ],
   "source": [
    "N.A[1]"
   ]
  },
  {
   "cell_type": "code",
   "execution_count": 122,
   "metadata": {},
   "outputs": [
    {
     "data": {
      "text/plain": [
       "1"
      ]
     },
     "execution_count": 122,
     "metadata": {},
     "output_type": "execute_result"
    }
   ],
   "source": [
    "N.A[0]"
   ]
  },
  {
   "cell_type": "markdown",
   "metadata": {},
   "source": [
    "## Sorting A sequence\n",
    "            \n",
    "        \n",
    "        \n",
    "        "
   ]
  },
  {
   "cell_type": "markdown",
   "metadata": {},
   "source": [
    "### Insertion Sort"
   ]
  },
  {
   "cell_type": "code",
   "execution_count": 40,
   "metadata": {},
   "outputs": [],
   "source": [
    "def insertion_sort(A):\n",
    "    for k in range(1,len(A)):\n",
    "        cur=A[k]\n",
    "        j=k\n",
    "        while j>0 and A[j-1]>cur:\n",
    "            A[j]=A[j-1]\n",
    "            j-=1\n",
    "        A[j]=cur \n",
    "    return\n",
    "A=[8,6,10,9]\n",
    "insertion_sort(A)\n"
   ]
  },
  {
   "cell_type": "code",
   "execution_count": 41,
   "metadata": {},
   "outputs": [
    {
     "data": {
      "text/plain": [
       "[6, 8, 9, 10]"
      ]
     },
     "execution_count": 41,
     "metadata": {},
     "output_type": "execute_result"
    }
   ],
   "source": [
    "A"
   ]
  },
  {
   "cell_type": "markdown",
   "metadata": {},
   "source": [
    "### Cryptography problem"
   ]
  },
  {
   "cell_type": "markdown",
   "metadata": {},
   "source": [
    "##### Replacing all caps word by shifiting by n shift i.e eg Aby D B by E etc."
   ]
  },
  {
   "cell_type": "code",
   "execution_count": 3,
   "metadata": {},
   "outputs": [],
   "source": [
    "class Cypher:\n",
    "    def __init__(self,shift):\n",
    "        encoder=[None]*26      #array for encryption\n",
    "        decoder=[None]*26      # array for decryption\n",
    "        for k in range(26):\n",
    "            encoder[k]=chr((k+shift)%26 +ord('A'))\n",
    "            decoder[k]=chr((k-shift)%26+ord('A'))\n",
    "            \n",
    "        self.forward=''.join(encoder)          #convert in into string\n",
    "        self.backward=''.join(decoder)\n",
    "    def encypt(self,message):\n",
    "        return self.transform(message,self.forward)\n",
    "    def decrypt(self,secret):\n",
    "        return self.transform(secret,self.backward)\n",
    "    def transform(self,original,code):\n",
    "        org=list(original)\n",
    "        for k in range(len(org)):\n",
    "            if org[k].isupper():\n",
    "                j=ord(org[k])-ord('A')\n",
    "                org[k]=code[j]\n",
    "        return ''.join(org)\n",
    "    \n",
    "                \n",
    "            \n",
    "        \n",
    "    "
   ]
  },
  {
   "cell_type": "code",
   "execution_count": 11,
   "metadata": {},
   "outputs": [
    {
     "data": {
      "text/plain": [
       "'WKH HDJOH LV LQ SODB; PHHW DW MRH V.'"
      ]
     },
     "execution_count": 11,
     "metadata": {},
     "output_type": "execute_result"
    }
   ],
   "source": [
    "c=Cypher(3)\n",
    "message = \"THE EAGLE IS IN PLAY; MEET AT JOE S.\"\n",
    "answer=c.encypt(message)\n",
    "answer"
   ]
  },
  {
   "cell_type": "code",
   "execution_count": 12,
   "metadata": {},
   "outputs": [
    {
     "data": {
      "text/plain": [
       "'THE EAGLE IS IN PLAY; MEET AT JOE S.'"
      ]
     },
     "execution_count": 12,
     "metadata": {},
     "output_type": "execute_result"
    }
   ],
   "source": [
    "c.decrypt(answer)"
   ]
  },
  {
   "cell_type": "code",
   "execution_count": 6,
   "metadata": {},
   "outputs": [
    {
     "data": {
      "text/plain": [
       "'THE EAGLE IS IN PLAY; MEET AT JOE S.'"
      ]
     },
     "execution_count": 6,
     "metadata": {},
     "output_type": "execute_result"
    }
   ],
   "source": [
    "message"
   ]
  },
  {
   "cell_type": "code",
   "execution_count": null,
   "metadata": {},
   "outputs": [],
   "source": []
  }
 ],
 "metadata": {
  "kernelspec": {
   "display_name": "Python 3",
   "language": "python",
   "name": "python3"
  },
  "language_info": {
   "codemirror_mode": {
    "name": "ipython",
    "version": 3
   },
   "file_extension": ".py",
   "mimetype": "text/x-python",
   "name": "python",
   "nbconvert_exporter": "python",
   "pygments_lexer": "ipython3",
   "version": "3.6.7"
  }
 },
 "nbformat": 4,
 "nbformat_minor": 2
}
